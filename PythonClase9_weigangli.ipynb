{
 "cells": [
  {
   "cell_type": "code",
   "execution_count": null,
   "metadata": {},
   "outputs": [],
   "source": []
  },
  {
   "cell_type": "code",
   "execution_count": 7,
   "metadata": {},
   "outputs": [
    {
     "name": "stdout",
     "output_type": "stream",
     "text": [
      "Array: [2.3 1.8 3.7 8.2 1.9 1.8]\n",
      "[[2.3 1.8 3.7 8.2 1.9 1.8]\n",
      " [8.5 7.5 9.2 2.9 6.8 8.5]]\n",
      "12\n",
      "(2, 6)\n",
      "float64\n",
      "[[[ 1  2  3]\n",
      "  [ 4  5  6]]\n",
      "\n",
      " [[ 7  8  9]\n",
      "  [10 11 12]]]\n",
      "12\n",
      "(2, 2, 3)\n",
      "int32\n",
      "0\n",
      "1\n",
      "2\n",
      "3\n",
      "4\n",
      "[0 1 2 3 4 5 6 7 8 9]\n",
      "[0 1 2 3 4 5 6 7 8 9]\n"
     ]
    }
   ],
   "source": [
    "import numpy as np\n",
    "\n",
    "altura=[2.3,1.8,3.7,8.2,1.9,1.8]\n",
    "anchura=[8.5,7.5,9.2,2.9,6.8,8.5]\n",
    "\n",
    "v_altura=np.array(altura)\n",
    "v_anchura=np.array(anchura)\n",
    "print(\"Array:\", v_altura)\n",
    "\n",
    "dimensiones=np.array([altura,anchura])\n",
    "print(dimensiones)\n",
    "print(dimensiones.size)\n",
    "print(dimensiones.shape)\n",
    "print(dimensiones.dtype)\n",
    "\n",
    "arr3d=np.array([\n",
    "    [\n",
    "        [1,2,3],\n",
    "        [4,5,6]\n",
    "    ],\n",
    "    [\n",
    "        [7,8,9],\n",
    "        [10,11,12]\n",
    "    ]\n",
    "])\n",
    "print(arr3d)\n",
    "print(arr3d.size)\n",
    "print(arr3d.shape)\n",
    "print(arr3d.dtype)\n",
    "\n",
    "for i in range(5):\n",
    "    print(i)\n",
    "\n",
    "\n",
    "arr3d2=np.array(np.arange(10))\n",
    "print(arr3d2)\n",
    "arr3d2.astype(np.float32)\n",
    "print(arr3d2)\n",
    "\n",
    "\n",
    "\n",
    "\n",
    "\n",
    "\n",
    "\n"
   ]
  },
  {
   "cell_type": "code",
   "execution_count": 20,
   "metadata": {},
   "outputs": [
    {
     "name": "stdout",
     "output_type": "stream",
     "text": [
      "[0 0 0 0 0]\n",
      "[[1. 1. 1. 1. 1.]\n",
      " [1. 1. 1. 1. 1.]]\n",
      "[[[         0 1075904512          0]\n",
      "  [1075707904 1717986918 1075996262]]\n",
      "\n",
      " [[ 858993459 1074213683  858993459]\n",
      "  [1075524403          0 1075904512]]]\n",
      "[[0. 0. 0. 0. 0.]\n",
      " [0. 0. 0. 0. 0.]]\n",
      "[ 1.   1.5  2.   2.5  3.   3.5  4.   4.5  5.   5.5  6.   6.5  7.   7.5\n",
      "  8.   8.5  9.   9.5 10.  10.5]\n",
      "[  0.  10.  20.  30.  40.  50.  60.  70.  80.  90. 100.]\n",
      "[100. 110. 120. 130. 140. 150. 160. 170. 180. 190. 200.]\n",
      "[  0.  10.  20.  30.  40.  50.  60.  70.  80.  90. 100. 100. 110. 120.\n",
      " 130. 140. 150. 160. 170. 180. 190. 200.]\n"
     ]
    }
   ],
   "source": [
    "#matriz\n",
    "\n",
    "vectorceros=np.zeros(5,dtype=np.int32)\n",
    "print(vectorceros)\n",
    "\n",
    "matrizunos=np.ones((2,5))\n",
    "print(matrizunos)\n",
    "\n",
    "cualquiercosa=np.empty((2,2,3),dtype=np.int32)\n",
    "print(cualquiercosa)\n",
    "\n",
    "matrizceros=np.zeros_like(matrizunos)\n",
    "print(matrizceros)\n",
    "\n",
    "vectorsecuencia=np.arange(1,11,0.5)\n",
    "print(vectorsecuencia)\n",
    "\n",
    "vectorlineal1=np.linspace(0,100,11)\n",
    "print(vectorlineal1)\n",
    "vectorlineal2=np.linspace(100,200,11)\n",
    "print(vectorlineal2)\n",
    "\n",
    "concatenado=np.concatenate((vectorlineal1,vectorlineal2))\n",
    "print(concatenado)\n",
    "\n",
    "concatenado.sort()\n",
    "print(concatenado)\n",
    "\n",
    "\n",
    "\n"
   ]
  },
  {
   "cell_type": "code",
   "execution_count": 24,
   "metadata": {},
   "outputs": [
    {
     "name": "stdout",
     "output_type": "stream",
     "text": [
      "0.49957952413012185\n",
      "[3.62695694 3.204326   4.70576358 0.30675422 3.23900362 4.21715218\n",
      " 9.75947142 2.7821264  8.32487778 9.57949363]\n",
      "[[[0.06043845 0.96301118 0.62287256 0.86309195]\n",
      "  [0.18709943 0.74210587 0.17848514 0.41927836]\n",
      "  [0.60245994 0.35820917 0.86756374 0.66244532]]\n",
      "\n",
      " [[0.98554096 0.10898279 0.92180161 0.16521626]\n",
      "  [0.05011668 0.0552686  0.99182792 0.28717745]\n",
      "  [0.06128867 0.98507265 0.64197216 0.30550029]]]\n"
     ]
    }
   ],
   "source": [
    "print(np.random.rand())\n",
    "print(np.random.rand(10)*10)\n",
    "print(np.random.rand(2,3,4))"
   ]
  },
  {
   "cell_type": "code",
   "execution_count": 27,
   "metadata": {},
   "outputs": [
    {
     "name": "stdout",
     "output_type": "stream",
     "text": [
      "[0 1 2 3 4 5 6 7 8 9]\n",
      "[ 5  6  7  8  9 10 11 12 13 14]\n",
      "[ 5  7  9 11 13 15 17 19 21 23]\n",
      "[-5 -5 -5 -5 -5 -5 -5 -5 -5 -5]\n",
      "[  0   6  14  24  36  50  66  84 104 126]\n",
      "[0.         0.16666667 0.28571429 0.375      0.44444444 0.5\n",
      " 0.54545455 0.58333333 0.61538462 0.64285714]\n",
      "[         0          1        128       6561     262144    9765625\n",
      "  362797056  956385313          0 1796636465]\n",
      "[False False False False False False False False False False]\n",
      "[False False  True False False False False False False False]\n",
      "[ 0  3  6  9 12 15 18 21 24 27]\n",
      "135\n",
      "0\n",
      "0\n",
      "27\n",
      "13.5\n"
     ]
    }
   ],
   "source": [
    "v1=np.arange(10)\n",
    "v2=np.arange(5,15)\n",
    "print(v1)\n",
    "print(v2)\n",
    "\n",
    "print(v1+v2)\n",
    "print(v1-v2)\n",
    "print(v1*v2)\n",
    "print(v1/v2)\n",
    "print(v1**v2)\n",
    "print(v1==v2)\n",
    "print(v1==2)\n",
    "v1*=3\n",
    "print(v1)\n",
    "print(v1.sum())\n",
    "print(v1.prod())\n",
    "print(v1.min())\n",
    "print(v1.max())\n",
    "print(v1.mean())"
   ]
  },
  {
   "cell_type": "code",
   "execution_count": 36,
   "metadata": {},
   "outputs": [
    {
     "name": "stdout",
     "output_type": "stream",
     "text": [
      "[[0 1 2]\n",
      " [3 4 5]\n",
      " [6 7 8]]\n",
      "[[ 0  2  4]\n",
      " [ 6  8 10]\n",
      " [12 14 16]]\n",
      "36\n",
      "[ 9 12 15]\n",
      "[ 3 12 21]\n",
      "[3. 4. 5.]\n",
      "[2 2 2]\n"
     ]
    }
   ],
   "source": [
    "m1=np.arange(9).reshape(3,3)\n",
    "print(m1)\n",
    "print(m1+m1)\n",
    "print(m1.sum())\n",
    "print(m1.sum(axis=0))\n",
    "print(m1.sum(axis=1))\n",
    "print(m1.mean(axis=0))\n",
    "print((m1>2).sum(axis=0))\n"
   ]
  },
  {
   "cell_type": "code",
   "execution_count": 44,
   "metadata": {},
   "outputs": [
    {
     "name": "stdout",
     "output_type": "stream",
     "text": [
      "[[0 1 1]\n",
      " [1 1 1]]\n",
      "[[      -inf 0.         0.69314718]\n",
      " [1.09861229 1.38629436 1.60943791]]\n",
      "[[0 1 2]\n",
      " [3 4 5]]\n",
      "[[ 0.          0.84147098  0.90929743]\n",
      " [ 0.14112001 -0.7568025  -0.95892427]]\n"
     ]
    },
    {
     "name": "stderr",
     "output_type": "stream",
     "text": [
      "C:\\ProgramData\\Anaconda3\\lib\\site-packages\\ipykernel_launcher.py:3: RuntimeWarning: divide by zero encountered in log\n",
      "  This is separate from the ipykernel package so we can avoid doing imports until\n"
     ]
    }
   ],
   "source": [
    "m1=np.arange(6).reshape(2,3)\n",
    "print(np.square(m1>0))\n",
    "print(np.log(m1))\n",
    "print(np.gcd(m1,m1))\n",
    "print(np.sin(m1))"
   ]
  },
  {
   "cell_type": "code",
   "execution_count": 43,
   "metadata": {},
   "outputs": [
    {
     "data": {
      "text/plain": [
       "Text(0.5, 1.0, 'Image plot of $\\\\sqrt{x^2 + y^2}$ for a grid of values')"
      ]
     },
     "execution_count": 43,
     "metadata": {},
     "output_type": "execute_result"
    },
    {
     "data": {
      "image/png": "[encoded data removed]",
      "text/plain": [
       "<Figure size 432x288 with 2 Axes>"
      ]
     },
     "metadata": {
      "needs_background": "light"
     },
     "output_type": "display_data"
    }
   ],
   "source": [
    "import matplotlib.pyplot as plt\n",
    "\n",
    "points = np.arange(-5,5,0.01)\n",
    "xs,ys= np.meshgrid(points,points)\n",
    "z=np.sqrt(xs**2+ys**2)\n",
    "\n",
    "plt.imshow(z, cmap=plt.cm.summer)\n",
    "plt.colorbar()\n",
    "plt.title(\"Image plot of $\\sqrt{x^2 + y^2}$ for a grid of values\")"
   ]
  },
  {
   "cell_type": "code",
   "execution_count": 48,
   "metadata": {},
   "outputs": [
    {
     "name": "stdout",
     "output_type": "stream",
     "text": [
      "[  0   1   8  27  64 125 216 343 512 729]\n",
      "64\n",
      "[ 8 27 64]\n",
      "[  8  27  64 125 216 343 512 729]\n",
      "[  0   1   8  27  64 125 216]\n",
      "[  0   1   8  27  64 125 216 343 512 729]\n",
      "[0 0 0 0 0 0 0 0 0 0]\n",
      "[  0   1   8  27  64 125 216 343 512 729]\n"
     ]
    }
   ],
   "source": [
    "a=np.arange(10) ** 3\n",
    "print(a)\n",
    "\n",
    "print(a[4])\n",
    "print(a[2:5])\n",
    "print(a[2:])\n",
    "print(a[:7])\n",
    "\n",
    "b=a.copy()\n",
    "print(b)\n",
    "\n",
    "b[::]=0\n",
    "print(b)\n",
    "print(a)\n",
    "\n"
   ]
  },
  {
   "cell_type": "code",
   "execution_count": 50,
   "metadata": {},
   "outputs": [
    {
     "name": "stdout",
     "output_type": "stream",
     "text": [
      "[[-3 -2 -1  0  1]\n",
      " [ 0  1  2  3  4]\n",
      " [ 6  7  8  9 10]\n",
      " [ 0  8  2  9  2]]\n",
      "\n",
      "[0 1 2 3 4]\n",
      "3\n",
      "3\n",
      "[[-2 -1]\n",
      " [ 1  2]\n",
      " [ 7  8]]\n"
     ]
    }
   ],
   "source": [
    "array2d=np.array([np.arange(-3,2),np.arange(5),np.arange(6,11),np.random.randint(10,size=5)])\n",
    "print(array2d)\n",
    "print()\n",
    "\n",
    "print(array2d[1])\n",
    "print(array2d[1][3])\n",
    "print(array2d[1,3])\n",
    "print(array2d[:3,1:3])"
   ]
  },
  {
   "cell_type": "code",
   "execution_count": 51,
   "metadata": {},
   "outputs": [
    {
     "name": "stdout",
     "output_type": "stream",
     "text": [
      "[['ABC' 'ACD' 'AFS']\n",
      " ['BCD' 'BFG' 'BFR']\n",
      " ['DFR' 'DTY' 'DZZ']\n",
      " ['GBC' 'GFR' 'GVC']]\n",
      "['ABC' 'ACD' 'AFS']\n",
      "ACD\n",
      "C\n"
     ]
    }
   ],
   "source": [
    "arraym=np.array([[\"ABC\",\"ACD\",\"AFS\"],[\"BCD\",\"BFG\",\"BFR\"],[\"DFR\",\"DTY\",\"DZZ\"],[\"GBC\",\"GFR\",\"GVC\"]])\n",
    "print(arraym)\n",
    "print(arraym[0])\n",
    "print(arraym[0,1])\n",
    "print(arraym[0,1][1])"
   ]
  },
  {
   "cell_type": "code",
   "execution_count": 68,
   "metadata": {},
   "outputs": [
    {
     "name": "stdout",
     "output_type": "stream",
     "text": [
      "['Bob' 'Joe' 'Will' 'Bob' 'Will' 'Joe' 'Joe']\n",
      "[[ -15   -4   61  -66  -88    0   45]\n",
      " [ -66   -1 -100   25   19  -47   57]\n",
      " [  96   88  -51  -82   76   70   81]\n",
      " [ -87   32    0  -51  -99    5    9]\n",
      " [  37  -95  -87  -66   -1   11   78]\n",
      " [  -7   34  -96  -81   12  -61  -31]\n",
      " [  42   91  -10  -29  -10   27  -69]]\n",
      "[ True False False  True False False False]\n",
      "[[-15  -4  61 -66 -88   0  45]\n",
      " [-87  32   0 -51 -99   5   9]]\n",
      "[[ -66   -1 -100   25   19  -47   57]\n",
      " [  96   88  -51  -82   76   70   81]\n",
      " [  37  -95  -87  -66   -1   11   78]\n",
      " [  -7   34  -96  -81   12  -61  -31]\n",
      " [  42   91  -10  -29  -10   27  -69]]\n",
      "[[-15  -4  61 -66 -88   0  45]\n",
      " [ 96  88 -51 -82  76  70  81]\n",
      " [-87  32   0 -51 -99   5   9]\n",
      " [ 37 -95 -87 -66  -1  11  78]]\n"
     ]
    }
   ],
   "source": [
    "names=np.array(['Bob','Joe','Will','Bob','Will','Joe','Joe'])\n",
    "data=np.random.randint(-100,100,size=(7,7))\n",
    "print(names)\n",
    "print(data)\n",
    "\n",
    "print(names=='Bob')\n",
    "print(data[names=='Bob'])\n",
    "print(data[names!='Bob'])\n",
    "print(data[(names=='Bob') | (names=='Will')])"
   ]
  },
  {
   "cell_type": "code",
   "execution_count": 71,
   "metadata": {},
   "outputs": [
    {
     "name": "stdout",
     "output_type": "stream",
     "text": [
      "[[ 0  0 61  0  0  0 45]\n",
      " [ 0  0  0 25 19  0 57]\n",
      " [96 88  0  0 76 70 81]\n",
      " [ 0 32  0  0  0  5  9]\n",
      " [37  0  0  0  0 11 78]\n",
      " [ 0 34  0  0 12  0  0]\n",
      " [42 91  0  0  0 27  0]]\n"
     ]
    }
   ],
   "source": [
    "data[data<0]=data.mean()\n",
    "print(data)"
   ]
  },
  {
   "cell_type": "code",
   "execution_count": 75,
   "metadata": {},
   "outputs": [
    {
     "name": "stdout",
     "output_type": "stream",
     "text": [
      "[[ 0.  0. 61.  0.  0.  0. 45.]\n",
      " [ 0.  0.  0. 25. 19.  0. 57.]\n",
      " [96. 88.  0.  0. 76. 70. 81.]\n",
      " [ 0. 32.  0.  0.  0.  5.  9.]\n",
      " [37.  0.  0.  0.  0. 11. 78.]\n",
      " [ 0. 34.  0.  0. 12.  0.  0.]\n",
      " [42. 91.  0.  0.  0. 27.  0.]]\n",
      "[[ 0  0 61  0  0  0 45]\n",
      " [ 0  0  0 25 19  0 57]\n",
      " [96 88  0  0 76 70 81]\n",
      " [ 0 32  0  0  0  5  9]\n",
      " [37  0  0  0  0 11 78]\n",
      " [ 0 34  0  0 12  0  0]\n",
      " [42 91  0  0  0 27  0]]\n"
     ]
    }
   ],
   "source": [
    "np.savetxt(\"data_en_texto.txt\",data,delimiter=',')\n",
    "otro =np.loadtxt(\"data_en_texto.txt\",delimiter=',')\n",
    "print(otro)\n",
    "\n",
    "np.save('array_b',data)\n",
    "otro_binario=np.load(\"array_b.npy\")\n",
    "print(otro_binario)"
   ]
  },
  {
   "cell_type": "code",
   "execution_count": 76,
   "metadata": {},
   "outputs": [
    {
     "name": "stdout",
     "output_type": "stream",
     "text": [
      "[  0.  10.  20.  30.  40.  50.  60.  70.  80.  90. 100.]\n"
     ]
    },
    {
     "data": {
      "image/png": "[encoded data removed]",
      "text/plain": [
       "<Figure size 432x288 with 1 Axes>"
      ]
     },
     "metadata": {
      "needs_background": "light"
     },
     "output_type": "display_data"
    }
   ],
   "source": [
    "import numpy as np\n",
    "import matplotlib.pyplot as plt\n",
    "\n",
    "x=np.linspace(0,100,11)\n",
    "print(x)\n",
    "plt.plot(x)\n",
    "plt.show()"
   ]
  },
  {
   "cell_type": "code",
   "execution_count": 79,
   "metadata": {},
   "outputs": [
    {
     "data": {
      "text/plain": [
       "[<matplotlib.lines.Line2D at 0x1b7670d45c0>]"
      ]
     },
     "execution_count": 79,
     "metadata": {},
     "output_type": "execute_result"
    },
    {
     "data": {
      "image/png": "[encoded data removed]",
      "text/plain": [
       "<Figure size 432x288 with 1 Axes>"
      ]
     },
     "metadata": {
      "needs_background": "light"
     },
     "output_type": "display_data"
    }
   ],
   "source": [
    "import numpy as np\n",
    "import matplotlib.pyplot as plt\n",
    "x=np.linspace(-np.pi, np.pi, 32)\n",
    "seno, coseno=np.sin(x),np.cos(x)\n",
    "\n",
    "plt.plot(x,seno,'g--')\n",
    "plt.plot(x,coseno,dashes=[6,2],linewidth=5)"
   ]
  },
  {
   "cell_type": "code",
   "execution_count": null,
   "metadata": {},
   "outputs": [],
   "source": []
  }
 ],
 "metadata": {
  "kernelspec": {
   "display_name": "Python 3",
   "language": "python",
   "name": "python3"
  },
  "language_info": {
   "codemirror_mode": {
    "name": "ipython",
    "version": 3
   },
   "file_extension": ".py",
   "mimetype": "text/x-python",
   "name": "python",
   "nbconvert_exporter": "python",
   "pygments_lexer": "ipython3",
   "version": "3.7.1"
  }
 },
 "nbformat": 4,
 "nbformat_minor": 2
}
