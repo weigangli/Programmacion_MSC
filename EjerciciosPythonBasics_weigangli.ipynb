{
 "cells": [
  {
   "cell_type": "markdown",
   "metadata": {},
   "source": [
    "**Nombre: Weigang**\n",
    "\n",
    "**Apellidos: Li**\n",
    "\n",
    "**PASAPORTE: E23890482**"
   ]
  },
  {
   "cell_type": "markdown",
   "metadata": {},
   "source": [
    "_**Nota:** para hacer todos estos ejercicios puedes consultar los apuntes de la asignatura y todas las páginas de ayuda sugeridas en ellos_"
   ]
  },
  {
   "cell_type": "markdown",
   "metadata": {},
   "source": [
    "**1. Escribe un programa que pida el alto y el ancho (en metros) de una parcela rectangular y calcule su perímetro y su área. Si esta última es mayor de una hectárea, deberá expresarse la medida en esta unidad en lugar de en $m^2$**"
   ]
  },
  {
   "cell_type": "code",
   "execution_count": 3,
   "metadata": {},
   "outputs": [
    {
     "name": "stdin",
     "output_type": "stream",
     "text": [
      "Please input the height in meters of a rectangle:  500\n",
      "Please input the width in meters of a rectangle:  500\n"
     ]
    },
    {
     "name": "stdout",
     "output_type": "stream",
     "text": [
      "The area of this rectangle is 250000 $m^2$\n",
      "The perimeter of this rectangle is 2000 m\n"
     ]
    }
   ],
   "source": [
    "height=eval(input(\"Please input the height in meters of a rectangle: \"))\n",
    "width=eval(input(\"Please input the width in meters of a rectangle: \"))\n",
    "perimeter=(height+width)*2\n",
    "area=height*width\n",
    "\n",
    "if area>=10000:\n",
    "    print(\"The area of this rectangle is\", area, \"$m^2$\")\n",
    "    \n",
    "print(\"The perimeter of this rectangle is\", perimeter,\"m\")\n",
    "\n"
   ]
  },
  {
   "cell_type": "markdown",
   "metadata": {},
   "source": [
    "**2. Escribe un programa que lea los coeficientes y calule la solución de una ecuación de segundo grado de la forma $ax^2+bx+c=0$**"
   ]
  },
  {
   "cell_type": "code",
   "execution_count": 4,
   "metadata": {},
   "outputs": [
    {
     "name": "stdout",
     "output_type": "stream",
     "text": [
      "Solving a Quadratic equation in one variable $ax^2+bx+c=0$\n"
     ]
    },
    {
     "name": "stdin",
     "output_type": "stream",
     "text": [
      "The value of a:  1\n",
      "The value of b:  10\n",
      "The value of c:  1\n"
     ]
    },
    {
     "name": "stdout",
     "output_type": "stream",
     "text": [
      "The value of discriminat of this equation is:  96\n",
      "The solution of the equation is:  x1= -0.10102051443364424 x2= -9.898979485566356\n"
     ]
    }
   ],
   "source": [
    "import math\n",
    "\n",
    "print(\"Solving a Quadratic equation in one variable $ax^2+bx+c=0$\")\n",
    "\n",
    "a=eval(input(\"The value of a: \"))\n",
    "b=eval(input(\"The value of b: \"))\n",
    "c=eval(input(\"The value of c: \"))\n",
    "d=b**2-4*a*c\n",
    "#discriminant(d)\n",
    "\n",
    "print(\"The value of discriminat of this equation is: \",d)\n",
    "if d>0:\n",
    "    x1=(-b+math.sqrt(d))/2*a\n",
    "    x2=(-b-math.sqrt(d))/2*a\n",
    "    print(\"The solution of the equation is: \",\"x1=\",x1,\"x2=\",x2)\n",
    "elif d==0:\n",
    "    x1=-b/2*a\n",
    "    x2==x1\n",
    "    print(\"The solution of the equation is: \",\"x1=\",x1,\"x2=\",x2)\n",
    "elif d<0:\n",
    "    print(\"The equation has no real root solution!\")\n",
    "\n"
   ]
  },
  {
   "cell_type": "markdown",
   "metadata": {},
   "source": [
    " **3. Escribe un programa que lea una cadena de texto y cuente cuántos caracteres no son letras** "
   ]
  },
  {
   "cell_type": "code",
   "execution_count": 12,
   "metadata": {},
   "outputs": [
    {
     "name": "stdin",
     "output_type": "stream",
     "text": [
      "please input your text here:  123abc\n"
     ]
    },
    {
     "name": "stdout",
     "output_type": "stream",
     "text": [
      "The non-letter characters of the text is:  3\n"
     ]
    }
   ],
   "source": [
    "nonletter=0\n",
    "text=input(\"please input your text here: \")\n",
    "for k in text:\n",
    "    if k.isdigit():\n",
    "        nonletter=nonletter+1\n",
    "print(\"The non-letter characters of the text is: \",nonletter)"
   ]
  },
  {
   "cell_type": "markdown",
   "metadata": {},
   "source": [
    "**4. Escribe un programa que lea una cadena de texto y le quite todos los caracteres que no sean letras**"
   ]
  },
  {
   "cell_type": "code",
   "execution_count": 27,
   "metadata": {},
   "outputs": [
    {
     "name": "stdin",
     "output_type": "stream",
     "text": [
      "Please input your text here:  abc 123\n"
     ]
    },
    {
     "name": "stdout",
     "output_type": "stream",
     "text": [
      "The non-letter characters of the text is now removed  abc\n"
     ]
    }
   ],
   "source": [
    "text=input(\"Please input your text here: \")\n",
    "newtext=\" \"\n",
    "for i in text:\n",
    "    if i.isalpha():\n",
    "        newtext+=i\n",
    "print(\"The non-letter characters of the text is now removed\", newtext)\n"
   ]
  },
  {
   "cell_type": "markdown",
   "metadata": {},
   "source": [
    "**5. Escribe un programa que lea una cadena de texto y diga si es un palíndromo**"
   ]
  },
  {
   "cell_type": "code",
   "execution_count": 15,
   "metadata": {},
   "outputs": [
    {
     "name": "stdin",
     "output_type": "stream",
     "text": [
      "Please enter a line of text:  a1a\n"
     ]
    },
    {
     "name": "stdout",
     "output_type": "stream",
     "text": [
      "Your input text is a palindrome\n"
     ]
    }
   ],
   "source": [
    "s=input(\"Please enter a line of text: \")\n",
    "a=len(s)\n",
    "i=0\n",
    "count=1    \n",
    "while i<=(a/2):\n",
    "    if s[i]==s[a-i-1]:\n",
    "        count=1\n",
    "        i+=1\n",
    "    else:\n",
    "        count=0\n",
    "        break\n",
    "if count==1:\n",
    "    print(\"Your input text is a palindrome\")\n",
    "else:\n",
    "    print(\"Your input text is not a palindrome\")"
   ]
  },
  {
   "cell_type": "markdown",
   "metadata": {},
   "source": [
    "**6. Escribe un programa que lea una frase, la separe en palabras e imprima las palabras por orden de longitud. Las palabras de la misma longitud deberán imprimirse por orden lexicográfico**"
   ]
  },
  {
   "cell_type": "code",
   "execution_count": 30,
   "metadata": {},
   "outputs": [
    {
     "name": "stdin",
     "output_type": "stream",
     "text": [
      "Please input your sentence:  El índice $r$ de contagio del coronavirus mide el número medio de contagios que causa cada persona infectada. Si $r=3$ y el primer día de la epidemia hay una persona contagiada, esa persona contagiará a 3, por lo que el segundo día habrá 4 personas contagiadas. Esas tres nuevas personas contagiadas contagiarán a otras 3 cada una, por lo que habrá 9 nuevos contagiados, haciendo un total de 13 personas contagiadas. Escribe un programa que pida el número inicial de contagiados $i$, el valor del índice medio de contagios $r$ y un número $n$ de días y escriba por pantalla la evolución en el número de contagiados durante los primeros $n$ días de pandemia. Para cada día debe imprimir el número de nuevos contagios y el número de contagios acumulados\n"
     ]
    },
    {
     "name": "stdout",
     "output_type": "stream",
     "text": [
      "['3', '4', '9', 'a', 'a', 'y', 'y', 'y', 'y', '13', '3,', 'de', 'de', 'de', 'de', 'de', 'de', 'de', 'de', 'de', 'de', 'de', 'El', 'el', 'el', 'el', 'el', 'el', 'el', 'el', 'el', 'en', 'la', 'la', 'lo', 'lo', 'Si', 'un', 'un', 'un', '$n$', '$n$', '$r$', '$r$', 'del', 'del', 'día', 'día', 'día', 'esa', 'hay', 'los', 'por', 'por', 'por', 'que', 'que', 'que', 'que', 'una', '$i$,', 'cada', 'cada', 'cada', 'debe', 'días', 'días', 'Esas', 'mide', 'Para', 'pida', 'tres', 'una,', '$r=3$', 'causa', 'habrá', 'habrá', 'medio', 'medio', 'otras', 'total', 'valor', 'nuevas', 'nuevos', 'nuevos', 'número', 'número', 'número', 'número', 'número', 'número', 'primer', 'índice', 'índice', 'durante', 'escriba', 'Escribe', 'inicial', 'persona', 'persona', 'persona', 'segundo', 'contagio', 'epidemia', 'haciendo', 'imprimir', 'pantalla', 'personas', 'personas', 'personas', 'primeros', 'programa', 'contagios', 'contagios', 'contagios', 'contagios', 'evolución', 'pandemia.', 'acumulados', 'contagiará', 'infectada.', 'contagiada,', 'contagiadas', 'contagiados', 'contagiados', 'contagiarán', 'coronavirus', 'contagiadas.', 'contagiadas.', 'contagiados,']\n"
     ]
    }
   ],
   "source": [
    "text=input(\"Please input your sentence: \")\n",
    "words=text.split()\n",
    "text1=sorted(words, key=str.lower)\n",
    "text2=sorted(text1, key=len)\n",
    "print(text2)"
   ]
  },
  {
   "cell_type": "markdown",
   "metadata": {},
   "source": [
    "**7. Las matrículas actuales de los coches en España están compuestas por cuatro dígitos y tres consonantes. Escribe un programa que lea una matrícula, una letra y un número y nos diga si**\n",
    "  * **La matrícula contiene ese dígito**\n",
    "  * **Las letras de la matrícula comienzan con la letra dada**\n",
    "  * **Ambas cosas**\n",
    "  * **Ninguna de las dos cosas**"
   ]
  },
  {
   "cell_type": "code",
   "execution_count": 94,
   "metadata": {},
   "outputs": [
    {
     "name": "stdout",
     "output_type": "stream",
     "text": [
      "To check a registered 7 digit car plate number\n"
     ]
    },
    {
     "name": "stdin",
     "output_type": "stream",
     "text": [
      "please input your car plate number:  1234abc\n",
      "please input a number:  12\n",
      "please input a letter:  ab\n"
     ]
    },
    {
     "name": "stdout",
     "output_type": "stream",
     "text": [
      "The plate only includes the number:  12\n"
     ]
    }
   ],
   "source": [
    "#register(r)\n",
    "print(\"To check a registered 7 digit car plate number\")\n",
    "r=input(\"please input your car plate number: \")\n",
    "num=input(\"please input a number: \")\n",
    "letter=input(\"please input a letter: \")\n",
    "\n",
    "\n",
    "if num.isdigit() and letter.isalpha and len(r)==7:\n",
    "    if r.count(num)>0 and r[4].upper()==letter.upper:\n",
    "        print(\"The plate contains the number: \",num,\"and begins with the letter: \",letter)\n",
    "    elif r.count(num)>0: \n",
    "        if r[4].upper==letter.upper:\n",
    "            print(\"The plate includes the number: \",num,\"and begins with the letter: \",letter)\n",
    "        else:  print(\"The plate only includes the number: \",num)\n",
    "    elif r[4].upper==letter.upper:\n",
    "        if r.count(num)>0:\n",
    "            print(\"The plate includes the number: \",num,\"and begins with the letter: \",letter)\n",
    "        else: print(\"The plate only begins the letter: \",letter)\n",
    "    else: print(\"The plate does not includes the number:\",num,\"nor begins with the letter:\",letter)\n",
    "else: print(\"Error in your input!\")        \n"
   ]
  },
  {
   "cell_type": "markdown",
   "metadata": {},
   "source": [
    "**8. Dada una lista de matrículas, un dígito y una letra, escribe un programa que nos diga cuántas matrículas cumplen cada una de las condiciones anteriores**"
   ]
  },
  {
   "cell_type": "code",
   "execution_count": 97,
   "metadata": {},
   "outputs": [
    {
     "name": "stdin",
     "output_type": "stream",
     "text": [
      "please input a number 2\n",
      "please input a letter a\n"
     ]
    },
    {
     "name": "stdout",
     "output_type": "stream",
     "text": [
      "In this list 3 of which only includes the number: 2 , 2 of which only begins with a letter: a , and 2 of which matchs both\n"
     ]
    }
   ],
   "source": [
    "#list(l)\n",
    "l=(\"1234abc\",\"2345bac\",\"2456aab\",\"4567edf\",\"5678dfe\",\"6789fde\")\n",
    "num2=input(\"please input a number\")\n",
    "letter2=input(\"please input a letter\")\n",
    "\n",
    "#a,b,c is the determinator for \"only includes number X, only begins with letter X, and both\"\n",
    "a=0\n",
    "b=0\n",
    "c=0\n",
    "\n",
    "\n",
    "if num2.isdigit() and letter2.isalpha and len(num2)==1 and len(letter2)==1:\n",
    "    for i in l:\n",
    "        if  i.count(num2)>0 and i[4].upper()==letter2.upper:\n",
    "            c+=1\n",
    "            a+=1\n",
    "            b+=1\n",
    "        elif  i[4].upper==letter2.upper:\n",
    "            if i.count(num2)>0:\n",
    "                c+=1\n",
    "                a+=1\n",
    "                b+=1\n",
    "            else: b+=1\n",
    "        elif  i.count(num2)>0:\n",
    "            if i[4].upper==letter2.upper:\n",
    "                c+=1\n",
    "                a+=1\n",
    "                b+=1\n",
    "            else: a+=1\n",
    "else: print(\"Error in your input!\")\n",
    "print(\"In this list\",a,\"of which only includes the number:\",num2,\",\",b,\"of which only begins with a letter:\",letter2,\", and\",c,\"of which matchs both\")\n",
    "        "
   ]
  },
  {
   "cell_type": "markdown",
   "metadata": {},
   "source": [
    "**9. En https://www.dieselogasolina.com/tabla-matriculas-por-anos.html puedes encontrar una tabla con las últimas letras asignadas cada mes desde el año 2000 para matricular coches. Escribe un programa que reciba la matrícula completa de un coche y devuelva el mes y el año en el que fue matriculado**"
   ]
  },
  {
   "cell_type": "code",
   "execution_count": 1,
   "metadata": {},
   "outputs": [
    {
     "ename": "UnicodeDecodeError",
     "evalue": "'gbk' codec can't decode byte 0xff in position 95: illegal multibyte sequence",
     "output_type": "error",
     "traceback": [
      "\u001b[1;31m---------------------------------------------------------------------------\u001b[0m",
      "\u001b[1;31mUnicodeDecodeError\u001b[0m                        Traceback (most recent call last)",
      "\u001b[1;32m<ipython-input-1-384be5c1fb4d>\u001b[0m in \u001b[0;36m<module>\u001b[1;34m\u001b[0m\n\u001b[0;32m      2\u001b[0m \u001b[0mfile\u001b[0m\u001b[1;33m=\u001b[0m\u001b[0mopen\u001b[0m\u001b[1;33m(\u001b[0m\u001b[1;34m'ejercicio8.csv'\u001b[0m\u001b[1;33m)\u001b[0m\u001b[1;33m\u001b[0m\u001b[1;33m\u001b[0m\u001b[0m\n\u001b[0;32m      3\u001b[0m \u001b[0mfilecsv\u001b[0m\u001b[1;33m=\u001b[0m\u001b[0mcsv\u001b[0m\u001b[1;33m.\u001b[0m\u001b[0mreader\u001b[0m\u001b[1;33m(\u001b[0m\u001b[0mfile\u001b[0m\u001b[1;33m)\u001b[0m\u001b[1;33m\u001b[0m\u001b[1;33m\u001b[0m\u001b[0m\n\u001b[1;32m----> 4\u001b[1;33m \u001b[1;32mfor\u001b[0m \u001b[0mrow\u001b[0m \u001b[1;32min\u001b[0m \u001b[0mfilecsv\u001b[0m\u001b[1;33m:\u001b[0m\u001b[1;33m\u001b[0m\u001b[1;33m\u001b[0m\u001b[0m\n\u001b[0m\u001b[0;32m      5\u001b[0m     \u001b[0mprint\u001b[0m \u001b[1;33m(\u001b[0m\u001b[0mrow\u001b[0m\u001b[1;33m,\u001b[0m \u001b[0mtype\u001b[0m\u001b[1;33m(\u001b[0m\u001b[0mrow\u001b[0m\u001b[1;33m)\u001b[0m\u001b[1;33m)\u001b[0m\u001b[1;33m\u001b[0m\u001b[1;33m\u001b[0m\u001b[0m\n",
      "\u001b[1;31mUnicodeDecodeError\u001b[0m: 'gbk' codec can't decode byte 0xff in position 95: illegal multibyte sequence"
     ]
    }
   ],
   "source": [
    "#working on it\n",
    "#import files\n",
    "import csv\n",
    "file=open('ejercicio9.csv')\n",
    "filecsv=csv.reader(file)\n",
    "for row in filecsv:\n",
    "    print (row, type(row))\n",
    "    \n"
   ]
  },
  {
   "cell_type": "markdown",
   "metadata": {},
   "source": [
    "**10. El índice $r$ de contagio del coronavirus mide el número medio de contagios que causa cada persona infectada. Si $r=3$ y el primer día de la epidemia hay una persona contagiada, esa persona contagiará a 3, por lo que el segundo día habrá 4 personas contagiadas. Esas tres nuevas personas contagiadas contagiarán a otras 3 cada una, por lo que habrá 9 nuevos contagiados, haciendo un total de 13 personas contagiadas. Escribe un programa que pida el número inicial de contagiados $i$, el valor del índice medio de contagios $r$ y un número $n$ de días y escriba por pantalla la evolución en el número de contagiados durante los primeros $n$ días de pandemia. Para cada día debe imprimir el número de nuevos contagios y el número de contagios acumulados**"
   ]
  },
  {
   "cell_type": "code",
   "execution_count": 17,
   "metadata": {},
   "outputs": [
    {
     "name": "stdin",
     "output_type": "stream",
     "text": [
      "Please input the number of people infected by COVID19 in day one:  5\n",
      "Please indicate the rate r of COVID19:  5\n",
      "Please indicate the number of days for this evolucion COVID19:  6\n"
     ]
    },
    {
     "name": "stdout",
     "output_type": "stream",
     "text": [
      "In day: 1 The new increase of the people afected by COVID19 is: 25 and in which the accumlate number of people afected is: 30\n",
      "In day: 2 The new increase of the people afected by COVID19 is: 150 and in which the accumlate number of people afected is: 180\n",
      "In day: 3 The new increase of the people afected by COVID19 is: 900 and in which the accumlate number of people afected is: 1080\n",
      "In day: 4 The new increase of the people afected by COVID19 is: 5400 and in which the accumlate number of people afected is: 6480\n",
      "In day: 5 The new increase of the people afected by COVID19 is: 32400 and in which the accumlate number of people afected is: 38880\n",
      "In day: 6 The new increase of the people afected by COVID19 is: 194400 and in which the accumlate number of people afected is: 233280\n"
     ]
    }
   ],
   "source": [
    "#Infected by COVID19 inicially in day one(ini)\n",
    "ini=eval(input(\"Please input the number of people infected by COVID19 in day one: \"))\n",
    "#Index rate that one patient of COVID19 can contaminate per day (in numbers of people),(r)\n",
    "r=eval(input(\"Please indicate the rate r of COVID19: \"))\n",
    "#The number of days that went on for this process(d) of evolucion COVID19\n",
    "d=eval(input(\"Please indicate the number of days for this evolucion COVID19: \"))\n",
    "\n",
    "endday=ini\n",
    "for i in range(1,d+1):\n",
    "    increase=(endday)*r\n",
    "    endday=(endday)+(increase)\n",
    "    print(\"In day:\",i,\"The new increase of the people afected by COVID19 is:\",increase,\"and in which the accumlate number of people afected is:\",endday)\n",
    "    "
   ]
  },
  {
   "cell_type": "markdown",
   "metadata": {},
   "source": [
    "**11. Puedes obtener una lista de códigos postales de (https://www.codigospostales.com/descarga.html). En el fichero .zip que te puedes descargar de ahí puedes obtener los códigos postales de todas las poblaciones de España, pero están estructurados de una forma un poco particular, aunque sencilla de procesar automáticamente. El objetivo último del ejercicio es obtener un fichero con un listado de todos los códigos postales de España asociados a su provincia y población, ordenados por código postal. Cada línea deberá tener el formato**  \n",
    "    *CódigoPostal Provincia Poblaciones*  \n",
    "Indicaciones para resolver el ejercicio:\n",
    "* Abre el fichero codciu.txt. En cada línea de ese fichero puedes encontrar un código compuesto por tres números o dos números y una letra, seguidos del nombre de una población o provincia.\n",
    "* Para cada línea, debes separar los tres primeros caracteres de los demás, y después\n",
    "  + Si de esos tres primeros caracteres hay dos números y una x (NNx), quiere decir que el fichero asociado contiene información de poblaciones pequeñas de la provincia. Procesa los ficheros de nombre NNxcodpos.txt y extrae los códigos postales y las poblaciones asociadas a cada código postal (puede haber varias)\n",
    "  + Si de esos tres primeros caracteres hay tres números (NNN) o dos números y una letra que no sea x (p.e. NNa), quiere decir que el fichero asociado contiene los códigos postales de poblaciones grandes, con más de un código postal. En este caso, la información aparece desglosada por todas las calles que tienen cada uno de los códigos postales, con lo que cada código postal aparece multitud de veces. Descartando la información de las calles, recopila todos los códigos postales distintos que haya en esos ficheros y asócialos a la ciudad y provincia corresondientes"
   ]
  },
  {
   "cell_type": "code",
   "execution_count": null,
   "metadata": {},
   "outputs": [],
   "source": [
    "#working on it"
   ]
  },
  {
   "cell_type": "markdown",
   "metadata": {},
   "source": [
    "**12. Acabas de comenzar a trabajar en el INE, y tu primera labor es recopilar la información que te proporcionan distintas autoridades locales para presentársela a tu jefe. La Agrupación de Municipios de España te ha proporcionado una lista de códigos postales y las poblaciones a las que pertenecen, aunque no te aseguran que esté actualizada y pueden faltar códigos postales. La Policía Nacional te ha proporcionado una lista de la cantidad de robos que se han producido en distintas poblaciones, asociados también a códigos postales. Si no se han producido robos, el código postal no aparece. La Guardia Civil te ha proporcionado una lista con la cantidad de incautaciones de drogas junto con el nombre de la población en el que se han producido. La Federación de Policías Municipales de España te ha enviado una lista con el número de infracciones que se han sancionado agrupadas también por poblaciones, y la Coordinadora de Cuerpos de Bomberos Nacional ha proporcionado el número de incendios sofocados, agrupados por código postal. Sabiendo que no todas las poblaciones y códigos postales tienen por qué aparecer en cada uno de los ficheros, escribe un programa que lea toda esta información, la agrupe de la manera más conveniente y la presente de manera ordenada.**  \n",
    "Antes de comenzar a resolver el ejercicio, puedes hacerte pequeños programas que te generen la información que necesitas para probar el ejercicio."
   ]
  },
  {
   "cell_type": "code",
   "execution_count": null,
   "metadata": {},
   "outputs": [],
   "source": [
    "#working on it"
   ]
  },
  {
   "cell_type": "code",
   "execution_count": null,
   "metadata": {},
   "outputs": [],
   "source": [
    "## Information provided (5)##\n",
    "## LAME(cp,poblaciones) ##\n",
    "## LPN(c.robos,cp,poblaciones) ##\n",
    "## LGC(l.incautaciones_de_drogas,poblaciones) ##\n",
    "## LFPM(l.numero_de_infracciones,poblaciones) ##\n",
    "## LCCBN(numero_de_incendios_sofocados,cp) ##\n",
    "\n",
    "\n",
    "## (Not correct code) ##\n",
    "## import os ##\n",
    "## import pandas as pd ##\n",
    "## cwd=os.path.abspath('') ## \n",
    "## files=os.listdir(cwd) ##\n",
    "## df=pd.DataFrame() ##\n",
    "## for file in files: ##\n",
    "      #if file.endswith('.xlsx'):\n",
    "        #df=df.append(pd.read_excel(file), ignore_index=True) \n",
    "## df.head() ##\n",
    "## df.to_excel('agrupacion_admin_cp_poblacion.xlsx') ##\n",
    "## (Does not combine all the categories) ##"
   ]
  },
  {
   "cell_type": "code",
   "execution_count": 7,
   "metadata": {},
   "outputs": [],
   "source": [
    "#combines the data with the same categories but does not keep the unmatched\n",
    "#merge with cp pobalacion\n",
    "\n",
    "import pandas as pd\n",
    "df_1 = pd.read_excel('1.xlsx')\n",
    "df_2 = pd.read_excel('2.xlsx') \n",
    "df_3 = pd.read_excel('3.xlsx')\n",
    "df_4 = pd.read_excel('4.xlsx')\n",
    "df_5 = pd.read_excel('5.xlsx')\n",
    "df_combine = df_1.merge(df_2, left_on='cp', right_on = 'cp')\n",
    "#df_combine = df_combine.merge(df_3, on='cp')\n",
    "\n",
    "df_combine.to_excel('mergedresult.xlsx')"
   ]
  },
  {
   "cell_type": "markdown",
   "metadata": {},
   "source": [
    "**13. Nuestra ciudad cuenta con un sistema de semáforos equipados con radares que, cuando un coche se los salta en rojo, anotan la matrícula del coche, la fecha, la hora y el identificador del semáforo en el que se produjo la infracción. Escribe un programa que lea un fichero con esa información y la introduzca en un diccionario. Después debe leer una matrícula y devolver una lista de las infracciones cometidas por ese vehículo, ordenada por fecha y hora. A continuación, debe leer un identificador de semáforo y devolver todas las infracciones que ha registrado ordenadas por matrícula**  \n",
    "Al igual que en el ejercicio anterior, puedes escribir pequeños programas que te ayuden a generar los ficheros con la información que necesitas"
   ]
  },
  {
   "cell_type": "markdown",
   "metadata": {},
   "source": [
    "## In Dictionary: car plate, date, time, trafficlight.num ##"
   ]
  },
  {
   "cell_type": "code",
   "execution_count": 10,
   "metadata": {},
   "outputs": [
    {
     "ename": "SyntaxError",
     "evalue": "invalid syntax (<ipython-input-10-d373281bb051>, line 4)",
     "output_type": "error",
     "traceback": [
      "\u001b[1;36m  File \u001b[1;32m\"<ipython-input-10-d373281bb051>\"\u001b[1;36m, line \u001b[1;32m4\u001b[0m\n\u001b[1;33m    LIST=p[]\u001b[0m\n\u001b[1;37m    ^\u001b[0m\n\u001b[1;31mSyntaxError\u001b[0m\u001b[1;31m:\u001b[0m invalid syntax\n"
     ]
    }
   ],
   "source": [
    "#working on it\n",
    "import csv\n",
    "reader=csv.DictReader(open('Datosejercicio13.csv', 'rb')\n",
    "dict_list=p[]\n",
    "for line in reader:\n",
    "    dict_list.append(line)\n",
    "import pprint\n",
    "pprint.pprint(dict_list)\n"
   ]
  },
  {
   "cell_type": "code",
   "execution_count": null,
   "metadata": {},
   "outputs": [],
   "source": []
  }
 ],
 "metadata": {
  "kernelspec": {
   "display_name": "Python 3",
   "language": "python",
   "name": "python3"
  },
  "language_info": {
   "codemirror_mode": {
    "name": "ipython",
    "version": 3
   },
   "file_extension": ".py",
   "mimetype": "text/x-python",
   "name": "python",
   "nbconvert_exporter": "python",
   "pygments_lexer": "ipython3",
   "version": "3.8.3"
  }
 },
 "nbformat": 4,
 "nbformat_minor": 4
}
