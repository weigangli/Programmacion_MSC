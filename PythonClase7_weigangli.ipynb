{
 "cells": [
  {
   "cell_type": "markdown",
   "metadata": {},
   "source": [
    "# Clase Nov.23 Lunes #"
   ]
  },
  {
   "cell_type": "code",
   "execution_count": null,
   "metadata": {},
   "outputs": [],
   "source": [
    "Posición 3\n",
    "Posición/12\n",
    "año=(posicion+8)/12+2000\n",
    "mes=(posicion+8)%12\n",
    "lista=[[\"BBJ\",\"BCD\",\"BCY\"],[\"BFJ\",...],[\"BSL,...\"],[\"CDV\",...]]\n",
    "\n",
    "lista[1][0]"
   ]
  },
  {
   "cell_type": "code",
   "execution_count": 7,
   "metadata": {},
   "outputs": [
    {
     "name": "stdout",
     "output_type": "stream",
     "text": [
      "0 Nombre: Pedro Pérez Salario: 50000\n",
      "{'nombre': 'Pedro Pérez', 'salario': 50000, 'id': 0}\n",
      "Total de objetos Empleados 1\n",
      "1 Nombre: Juan Gómez Salario: 35000\n",
      "{'nombre': 'Juan Gómez', 'salario': 35000, 'id': 1}\n",
      "Total de objetos Empleados 2\n",
      "Pedro Pérez\n",
      "Total de objetos Empleados 2\n"
     ]
    }
   ],
   "source": [
    "class Empleado(object):\n",
    "    numEmpleados=0\n",
    "    \n",
    "    def __init__(self,nombre,salario):\n",
    "        self.nombre=nombre\n",
    "        self.salario=salario\n",
    "        self.id=Empleado.numEmpleados\n",
    "        Empleado.numEmpleados+=1\n",
    "        \n",
    "    def cuantosEmpleados(self):\n",
    "        print(\"Total de objetos Empleados %d\" % Empleado.numEmpleados)\n",
    "        \n",
    "    def printEmpleado(self):\n",
    "        print(self.id,\"Nombre:\", self.nombre, \"Salario:\",self.salario)\n",
    "        print(self.__dict__)\n",
    "        \n",
    "    def __del__(self):\n",
    "        Empleado.numEmpleados-=1\n",
    "\n",
    "empleado1=Empleado(\"Pedro Pérez\",50000)\n",
    "empleado1.printEmpleado()\n",
    "empleado1.cuantosEmpleados()\n",
    "empleado2=Empleado(\"Juan Gómez\",35000)\n",
    "empleado2.printEmpleado()\n",
    "empleado2.cuantosEmpleados()\n",
    "\n",
    "lista_empleados=[empleado1,empleado2]\n",
    "\n",
    "#to prevent error\n",
    "if hasattr(empleado1,\"nombre\"):\n",
    "    print(getattr(empleado1,\"nombre\"))\n",
    "#error\n",
    "#print(getattr(empleado1,\"__nombre\"))\n",
    "\n",
    "del empleado1\n",
    "\n",
    "empleado2.cuantosEmpleados()\n",
    "\n"
   ]
  },
  {
   "cell_type": "code",
   "execution_count": null,
   "metadata": {},
   "outputs": [],
   "source": []
  }
 ],
 "metadata": {
  "kernelspec": {
   "display_name": "Python 3",
   "language": "python",
   "name": "python3"
  },
  "language_info": {
   "codemirror_mode": {
    "name": "ipython",
    "version": 3
   },
   "file_extension": ".py",
   "mimetype": "text/x-python",
   "name": "python",
   "nbconvert_exporter": "python",
   "pygments_lexer": "ipython3",
   "version": "3.7.1"
  }
 },
 "nbformat": 4,
 "nbformat_minor": 2
}
