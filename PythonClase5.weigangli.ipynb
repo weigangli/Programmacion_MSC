{
 "cells": [
  {
   "cell_type": "markdown",
   "metadata": {},
   "source": [
    "# Ejercicio: Escribe un programa que pida un número entero positivo al usuario y calcule la suma de los dígitos de un número entero positivo #"
   ]
  },
  {
   "cell_type": "code",
   "execution_count": 8,
   "metadata": {},
   "outputs": [
    {
     "name": "stdin",
     "output_type": "stream",
     "text": [
      "Introduce un número entero positivo:  25\n"
     ]
    },
    {
     "name": "stdout",
     "output_type": "stream",
     "text": [
      "La suma de las cifras es  7\n"
     ]
    }
   ],
   "source": [
    "numero_st=input(\"Introduce un número entero positivo: \")\n",
    "\n",
    "if numero_st.isdigit():\n",
    "    numero=eval(numero_st)\n",
    "    suma=0\n",
    "    while numero>0:\n",
    "        suma=suma+numero%10\n",
    "        numero=int(numero/10)\n",
    "    print(\"La suma de las cifras es \", suma)\n",
    "else:\n",
    "    print(\"Eso no es un número entero positivo\")"
   ]
  },
  {
   "cell_type": "markdown",
   "metadata": {},
   "source": [
    "# Crea una lista de cidades, imprimela, y a continuación pide al usuario que escriba el nombre de una de las ciudades e imprime su indice o un mensaje indicando que no está si no estuviera."
   ]
  },
  {
   "cell_type": "code",
   "execution_count": 16,
   "metadata": {},
   "outputs": [
    {
     "name": "stdout",
     "output_type": "stream",
     "text": [
      "['Madrid', 'Alcorcón', 'Móstoles', 'Fuenla']\n"
     ]
    },
    {
     "name": "stdin",
     "output_type": "stream",
     "text": [
      "Dime una ciudad Beijing\n"
     ]
    },
    {
     "name": "stdout",
     "output_type": "stream",
     "text": [
      "Beijing no está en la lista, la incluyo\n",
      "['Madrid', 'Alcorcón', 'Móstoles', 'Fuenla', 'Beijing']\n"
     ]
    }
   ],
   "source": [
    "lista_ciudades =[\"Madrid\",\"Alcorcón\",\"Móstoles\",\"Fuenla\"]\n",
    "\n",
    "print(lista_ciudades)\n",
    "ciudad=input(\"Dime una ciudad\")\n",
    "\n",
    "if ciudad in lista_ciudades:\n",
    "    print(lista_ciudades.index(ciudad))\n",
    "else:\n",
    "    print(ciudad,\"no está en la lista, la incluyo\")\n",
    "    lista_ciudades.append(ciudad)\n",
    "    print(lista_ciudades)"
   ]
  },
  {
   "cell_type": "markdown",
   "metadata": {},
   "source": [
    "# Añade una pregunta al programa anterior para que le pida al usuario un mñermo y muestra la ciudad correspondiente a ese índice #"
   ]
  },
  {
   "cell_type": "code",
   "execution_count": 11,
   "metadata": {},
   "outputs": [
    {
     "ename": "NameError",
     "evalue": "name 'pos' is not defined",
     "output_type": "error",
     "traceback": [
      "\u001b[1;31m---------------------------------------------------------------------------\u001b[0m",
      "\u001b[1;31mNameError\u001b[0m                                 Traceback (most recent call last)",
      "\u001b[1;32m<ipython-input-11-23121543b301>\u001b[0m in \u001b[0;36m<module>\u001b[1;34m\u001b[0m\n\u001b[1;32m----> 1\u001b[1;33m \u001b[1;32mif\u001b[0m \u001b[0mpos\u001b[0m\u001b[1;33m<=\u001b[0m\u001b[0mlen\u001b[0m\u001b[1;33m(\u001b[0m\u001b[0mlista_ciudades\u001b[0m\u001b[1;33m)\u001b[0m\u001b[1;33m:\u001b[0m\u001b[1;33m\u001b[0m\u001b[1;33m\u001b[0m\u001b[0m\n\u001b[0m\u001b[0;32m      2\u001b[0m     \u001b[0mprint\u001b[0m\u001b[1;33m(\u001b[0m\u001b[1;34m\"La ciudad en la posición\"\u001b[0m\u001b[1;33m,\u001b[0m\u001b[0mpos\u001b[0m\u001b[1;33m,\u001b[0m\u001b[1;34m\"es\"\u001b[0m \u001b[1;33m,\u001b[0m\u001b[0mlista_ciudades\u001b[0m\u001b[1;33m)\u001b[0m\u001b[1;33m\u001b[0m\u001b[1;33m\u001b[0m\u001b[0m\n\u001b[0;32m      3\u001b[0m \u001b[1;33m\u001b[0m\u001b[0m\n",
      "\u001b[1;31mNameError\u001b[0m: name 'pos' is not defined"
     ]
    }
   ],
   "source": [
    "#Pending#\n",
    "#if pos<=len(lista_ciudades):\n",
    "#    print(\"La ciudad en la posición\",pos,\"es\" ,lista_ciudades)\n",
    "    "
   ]
  },
  {
   "cell_type": "code",
   "execution_count": 14,
   "metadata": {},
   "outputs": [
    {
     "name": "stdout",
     "output_type": "stream",
     "text": [
      "2 4 6 8 10 \n",
      "Hay 5 numeros pares\n"
     ]
    }
   ],
   "source": [
    "lista_numeros=[1,2,3,4,5,6,7,8,9,10]\n",
    "num_pares=0\n",
    "\n",
    "for numero in lista_numeros:\n",
    "    if numero%2==0:\n",
    "        num_pares+=1\n",
    "        print(numero, end=\" \")\n",
    "print(\"\\nHay %i numeros pares\" % (num_pares))"
   ]
  },
  {
   "cell_type": "code",
   "execution_count": 15,
   "metadata": {},
   "outputs": [
    {
     "name": "stdout",
     "output_type": "stream",
     "text": [
      "0: enero\n",
      "1: febrero\n",
      "2: marzo\n",
      "3: abril\n",
      "4: mayo\n",
      "5: junio\n",
      "6: julio\n",
      "7: agosto\n",
      "8: septiembre\n",
      "9: octubre\n",
      "10: noviembre\n",
      "11: diciembre\n",
      "(0, 'enero')\n",
      "(1, 'febrero')\n",
      "(2, 'marzo')\n",
      "(3, 'abril')\n",
      "(4, 'mayo')\n",
      "(5, 'junio')\n",
      "(6, 'julio')\n",
      "(7, 'agosto')\n",
      "(8, 'septiembre')\n",
      "(9, 'octubre')\n",
      "(10, 'noviembre')\n",
      "(11, 'diciembre')\n"
     ]
    }
   ],
   "source": [
    "meses=[\"enero\",\"febrero\",\"marzo\",\"abril\",\"mayo\",\"junio\",\"julio\",\"agosto\",\"septiembre\",\"octubre\",\"noviembre\",\"diciembre\"]\n",
    "for (i,valor) in enumerate(meses):\n",
    "    print('%d: %s' % (i,valor))\n",
    "    \n",
    "for elem in enumerate(meses):\n",
    "    print(elem)"
   ]
  },
  {
   "cell_type": "code",
   "execution_count": 17,
   "metadata": {},
   "outputs": [
    {
     "name": "stdout",
     "output_type": "stream",
     "text": [
      "1 3 5 7 9 "
     ]
    }
   ],
   "source": [
    "for i in range(1,11):\n",
    "    if i%2==1:\n",
    "        print(i, end=\" \")"
   ]
  },
  {
   "cell_type": "code",
   "execution_count": 19,
   "metadata": {},
   "outputs": [
    {
     "name": "stdout",
     "output_type": "stream",
     "text": [
      "[0, 2, 4, 6, 8, 10, 12, 14, 16, 18, 20, 22, 24, 26, 28, 30, 32, 34, 36, 38, 40, 42, 44, 46, 48, 50, 52, 54, 56, 58, 60, 62, 64, 66, 68, 70, 72, 74, 76, 78, 80, 82, 84, 86, 88, 90, 92, 94, 96, 98, 100, 102, 104, 106, 108, 110, 112, 114, 116, 118, 120, 122, 124, 126, 128, 130, 132, 134, 136, 138, 140, 142, 144, 146, 148, 150, 152, 154, 156, 158, 160, 162, 164, 166, 168, 170, 172, 174, 176, 178, 180, 182, 184, 186, 188, 190, 192, 194, 196, 198, 200, 202, 204, 206, 208, 210, 212, 214, 216, 218, 220, 222, 224, 226, 228, 230, 232, 234, 236, 238, 240, 242, 244, 246, 248, 250, 252, 254, 256, 258, 260, 262, 264, 266, 268, 270, 272, 274, 276, 278, 280, 282, 284, 286, 288, 290, 292, 294, 296, 298]\n"
     ]
    }
   ],
   "source": [
    "lista_numeros=[]\n",
    "for i in range(0,300,2):\n",
    "    lista_numeros.append(i)\n",
    "print(lista_numeros)"
   ]
  },
  {
   "cell_type": "code",
   "execution_count": 21,
   "metadata": {},
   "outputs": [
    {
     "name": "stdout",
     "output_type": "stream",
     "text": [
      "28001 MADRID\n",
      "08001 BARCELONA\n",
      "43002 ORENSE\n"
     ]
    }
   ],
   "source": [
    "cp=[\"28001\",\"08001\",\"43002\"]\n",
    "ciudades=[\"Madrid\",\"Barcelona\",\"Orense\",\"Santander\"]\n",
    "\n",
    "for a,b in zip(cp,ciudades):\n",
    "    print(a,b.upper())"
   ]
  },
  {
   "cell_type": "code",
   "execution_count": 22,
   "metadata": {},
   "outputs": [
    {
     "name": "stdout",
     "output_type": "stream",
     "text": [
      "['28001', '08001', '43002']\n",
      "['08001', '28001', '43002']\n"
     ]
    }
   ],
   "source": [
    "print(cp)\n",
    "cp.sort()\n",
    "print(cp)"
   ]
  },
  {
   "cell_type": "markdown",
   "metadata": {},
   "source": [
    "## Contar cuántas veces aparece un string en una lista. ##"
   ]
  },
  {
   "cell_type": "code",
   "execution_count": 62,
   "metadata": {},
   "outputs": [
    {
     "name": "stdin",
     "output_type": "stream",
     "text": [
      "Which number do yo want to count in the list:  2\n"
     ]
    },
    {
     "name": "stdout",
     "output_type": "stream",
     "text": [
      "'0' aparece un de veces\n"
     ]
    }
   ],
   "source": [
    "#PROBLEM FIXING#\n",
    "\n",
    "#Lista_strings=[1,2,3,4,5,6,7,8,2]\n",
    "#x=eval(input(\"Which number do yo want to count in the list: \"))\n",
    "#Finder==Lista_strings.count(x)\n",
    "#print(\"'%s' aparece un de veces\" % (Finder))\n",
    "\n",
    "\n"
   ]
  },
  {
   "cell_type": "code",
   "execution_count": 44,
   "metadata": {},
   "outputs": [
    {
     "name": "stdin",
     "output_type": "stream",
     "text": [
      "string a buscar alpha\n"
     ]
    },
    {
     "name": "stdout",
     "output_type": "stream",
     "text": [
      "1\n",
      "'alpha' aparece un 16.666667% de veces\n"
     ]
    }
   ],
   "source": [
    "#Correct#\n",
    "lista_strings=[\"alpha\",\"bravo\",\"charlie\",\"delta\",\"echo\",\"foxtrot\",\"golf\"]\n",
    "cadena=input(\"string a buscar\")\n",
    "\n",
    "contador=0\n",
    "for palabra in lista_strings:\n",
    "    if cadena==palabra:\n",
    "        contador+=1\n",
    "        \n",
    "print(contador)\n",
    "print(\"'%s' aparece un %f%% de veces\" % (cadena,contador/len(lista_strings)*100))"
   ]
  },
  {
   "cell_type": "code",
   "execution_count": 66,
   "metadata": {},
   "outputs": [
    {
     "name": "stdout",
     "output_type": "stream",
     "text": [
      "tres\n",
      "4\n",
      "('uno', 'dos', 'tres', 'cuatro', 'uno', 'dos', 'tres', 'cuatro', 'uno', 'dos', 'tres', 'cuatro')\n"
     ]
    },
    {
     "data": {
      "text/plain": [
       "('uno', 'dos', 'tres', 'cuatro', 'cuatro', 'cinco', 'siete', 'ocho')"
      ]
     },
     "execution_count": 66,
     "metadata": {},
     "output_type": "execute_result"
    }
   ],
   "source": [
    "tupla1=(\"uno\",\"dos\",\"tres\",\"cuatro\")\n",
    "tupla2=(\"cuatro\",\"cinco\",\"siete\",\"ocho\")\n",
    "\n",
    "print(tupla1[2])\n",
    "print(len(tupla1))\n",
    "print(tupla1*3)\n",
    "tupla1+tupla2\n",
    "del tupla1[1]\n"
   ]
  },
  {
   "cell_type": "code",
   "execution_count": 70,
   "metadata": {},
   "outputs": [
    {
     "name": "stdout",
     "output_type": "stream",
     "text": [
      "[('28040', 'Madrid'), ('08080', 'Barcelona'), ('28002', 'Madrid'), ('28027', 'Madrid')]\n",
      "['28002', '28027', '28040']\n"
     ]
    }
   ],
   "source": [
    "lista_ciudades=[(\"28040\",\"Madrid\"),(\"08080\",\"Barcelona\"),(\"28002\",\"Madrid\"),(\"28027\",\"Madrid\")]\n",
    "\n",
    "print(lista_ciudades)\n",
    "\n",
    "resultado=[]\n",
    "for ciudad in lista_ciudades:\n",
    "    if ciudad[1]==\"Madrid\":\n",
    "        resultado.append(ciudad[0])\n",
    "resultado.sort()\n",
    "print(resultado)\n"
   ]
  },
  {
   "cell_type": "code",
   "execution_count": 84,
   "metadata": {},
   "outputs": [
    {
     "name": "stdout",
     "output_type": "stream",
     "text": [
      "{1: 'a', 11: 'b', 2: 'aa', 12: 'bb', 3: 'aaa', 13: 'bbb', 4: 'aaaa', 14: 'bbbb', 5: 'aaaaa', 15: 'bbbbb', 6: 'aaaaaa', 16: 'bbbbbb', 7: 'aaaaaaa', 17: 'bbbbbbb', 8: 'aaaaaaaa', 18: 'bbbbbbbb', 9: 'aaaaaaaaa', 19: 'bbbbbbbbb', 10: 'aaaaaaaaaa', 20: 'bbbbbbbbbb'}\n"
     ]
    }
   ],
   "source": [
    "diccionario={}\n",
    "\n",
    "for i in range(1,11):\n",
    "    diccionario[i]=\"a\"*i\n",
    "    diccionario[i+10]=\"b\"*i\n",
    "\n",
    "print(diccionario)\n"
   ]
  },
  {
   "cell_type": "code",
   "execution_count": 85,
   "metadata": {},
   "outputs": [
    {
     "name": "stdout",
     "output_type": "stream",
     "text": [
      "1 : a\n",
      "11 : b\n",
      "2 : aa\n",
      "12 : bb\n",
      "3 : aaa\n",
      "13 : bbb\n",
      "4 : aaaa\n",
      "14 : bbbb\n",
      "5 : aaaaa\n",
      "15 : bbbbb\n",
      "6 : aaaaaa\n",
      "16 : bbbbbb\n",
      "7 : aaaaaaa\n",
      "17 : bbbbbbb\n",
      "8 : aaaaaaaa\n",
      "18 : bbbbbbbb\n",
      "9 : aaaaaaaaa\n",
      "19 : bbbbbbbbb\n",
      "10 : aaaaaaaaaa\n",
      "20 : bbbbbbbbbb\n"
     ]
    }
   ],
   "source": [
    "for c in diccionario:\n",
    "    print(c,\":\", end=\" \")\n",
    "    print(diccionario[c])\n",
    "    "
   ]
  },
  {
   "cell_type": "code",
   "execution_count": 95,
   "metadata": {},
   "outputs": [
    {
     "name": "stdout",
     "output_type": "stream",
     "text": [
      "1 : a\n",
      "2 : aa\n",
      "3 : aaa\n",
      "4 : aaaa\n",
      "5 : aaaaa\n",
      "6 : aaaaaa\n",
      "7 : aaaaaaa\n",
      "8 : aaaaaaaa\n",
      "9 : aaaaaaaaa\n",
      "10 : aaaaaaaaaa\n",
      "11 : b\n",
      "12 : bb\n",
      "13 : bbb\n",
      "14 : bbbb\n",
      "15 : bbbbb\n",
      "16 : bbbbbb\n",
      "17 : bbbbbbb\n",
      "18 : bbbbbbbb\n",
      "19 : bbbbbbbbb\n",
      "20 : bbbbbbbbbb\n"
     ]
    }
   ],
   "source": [
    "claves_ordenadas=sorted(diccionario)\n",
    "for d in claves_ordenadas:\n",
    "    print(d,\":\", end=\" \")\n",
    "    print(diccionario[d])\n"
   ]
  },
  {
   "cell_type": "code",
   "execution_count": 91,
   "metadata": {},
   "outputs": [
    {
     "data": {
      "text/plain": [
       "['a',\n",
       " 'aa',\n",
       " 'aaa',\n",
       " 'aaaa',\n",
       " 'aaaaa',\n",
       " 'aaaaaa',\n",
       " 'aaaaaaa',\n",
       " 'aaaaaaaa',\n",
       " 'aaaaaaaaa',\n",
       " 'aaaaaaaaaa',\n",
       " 'b',\n",
       " 'bb',\n",
       " 'bbb',\n",
       " 'bbbb',\n",
       " 'bbbbb',\n",
       " 'bbbbbb',\n",
       " 'bbbbbbb',\n",
       " 'bbbbbbbb',\n",
       " 'bbbbbbbbb',\n",
       " 'bbbbbbbbbb']"
      ]
     },
     "execution_count": 91,
     "metadata": {},
     "output_type": "execute_result"
    }
   ],
   "source": [
    "sorted(diccionario.values())"
   ]
  },
  {
   "cell_type": "code",
   "execution_count": 94,
   "metadata": {},
   "outputs": [
    {
     "name": "stdout",
     "output_type": "stream",
     "text": [
      "['08080', '09045', '28002', '28027', '28040']\n",
      "['Badajoz', 'Barcelona', 'Madrid', 'Madrid', 'Madrid']\n"
     ]
    }
   ],
   "source": [
    "diccionario_ciudades={\"28040\":\"Madrid\",\"08080\":\"Barcelona\",\"28002\":\"Madrid\",\"28027\":\"Madrid\",\"09045\":\"Badajoz\"}\n",
    "print(sorted(diccionario_ciudades))\n",
    "print(sorted(diccionario_ciudades.values()))"
   ]
  },
  {
   "cell_type": "code",
   "execution_count": 105,
   "metadata": {},
   "outputs": [
    {
     "name": "stdout",
     "output_type": "stream",
     "text": [
      "('08080', 'Barcelona')\n",
      "('09045', 'Badajoz')\n",
      "('28002', 'Madrid')\n",
      "('28027', 'Madrid')\n",
      "('28040', 'Madrid')\n"
     ]
    }
   ],
   "source": [
    "diccionario_ciudades={\"28040\":\"Madrid\",\"08080\":\"Barcelona\",\"28002\":\"Madrid\",\"28027\":\"Madrid\",\"09045\":\"Badajoz\"}\n",
    "\n",
    "for g in sorted(diccionario_ciudades.items()):\n",
    "    print (g)"
   ]
  },
  {
   "cell_type": "code",
   "execution_count": 109,
   "metadata": {},
   "outputs": [
    {
     "name": "stdout",
     "output_type": "stream",
     "text": [
      "Dictionary sorted by key\n",
      "08080 Barcelona\n",
      "09045 Badajoz\n",
      "28002 Madrid\n",
      "28027 Madrid\n",
      "28040 Madrid\n",
      "\n",
      "Dictionary sorted by values\n",
      "09045 Badajoz\n",
      "08080 Barcelona\n",
      "28040 Madrid\n",
      "28002 Madrid\n",
      "28027 Madrid\n",
      "\n"
     ]
    }
   ],
   "source": [
    "diccionario_ciudades={\"28040\":\"Madrid\",\"08080\":\"Barcelona\",\"28002\":\"Madrid\",\"28027\":\"Madrid\",\"09045\":\"Badajoz\"}\n",
    "print(\"Dictionary sorted by key\")\n",
    "for k,v in sorted(diccionario_ciudades.items()):\n",
    "    print(k,v)\n",
    "print()\n",
    "\n",
    "print(\"Dictionary sorted by values\")\n",
    "for w in sorted(diccionario_ciudades, key=diccionario_ciudades.get):\n",
    "    print(w, diccionario_ciudades[w])\n",
    "print()"
   ]
  },
  {
   "cell_type": "code",
   "execution_count": null,
   "metadata": {},
   "outputs": [],
   "source": []
  }
 ],
 "metadata": {
  "kernelspec": {
   "display_name": "Python 3",
   "language": "python",
   "name": "python3"
  },
  "language_info": {
   "codemirror_mode": {
    "name": "ipython",
    "version": 3
   },
   "file_extension": ".py",
   "mimetype": "text/x-python",
   "name": "python",
   "nbconvert_exporter": "python",
   "pygments_lexer": "ipython3",
   "version": "3.7.1"
  }
 },
 "nbformat": 4,
 "nbformat_minor": 2
}
