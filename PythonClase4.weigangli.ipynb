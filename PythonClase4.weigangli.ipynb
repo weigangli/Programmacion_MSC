{
 "cells": [
  {
   "cell_type": "markdown",
   "metadata": {},
   "source": [
    "# Clase Miercoles 18 Nov #\n",
    "## Estructuras de control ##"
   ]
  },
  {
   "cell_type": "code",
   "execution_count": null,
   "metadata": {},
   "outputs": [],
   "source": [
    "nombre=input(\"Dime tu nombre: \")\n",
    "\n",
    "if nombre==\"Luis\":\n",
    "    print(\"Hola\" +nombre)\n",
    "    print(\"¿Qué tal estás?\")\n",
    "elif nombre==\"Juan\":\n",
    "    print(\"Los que se llaman \"+nombre+\"no me caen bien\")\n",
    "else:\n",
    "    print(\"Encantado de conocerte\")\n",
    "    \n",
    "    print(\"Hasta luego\")"
   ]
  },
  {
   "cell_type": "code",
   "execution_count": null,
   "metadata": {},
   "outputs": [],
   "source": [
    "numero=input(\"Dime un numero: \")\n",
    "\n",
    "if numero.isdigit():\n",
    "    numero=eval(numero)\n",
    "    if numero%2==0:\n",
    "        print(\"Es par\")\n",
    "    else:\n",
    "        print(\"Es impar\")\n",
    "else: print(\"Eso no es un numero\")"
   ]
  },
  {
   "cell_type": "code",
   "execution_count": null,
   "metadata": {},
   "outputs": [],
   "source": [
    "a=1\n",
    "while a<=10:\n",
    "    print(a)\n",
    "    a=a+1  "
   ]
  },
  {
   "cell_type": "code",
   "execution_count": null,
   "metadata": {},
   "outputs": [],
   "source": [
    "dividendo=eval(input(\"Dime el dividendo\"))\n",
    "divisor=eval(input(\"Dime el divisor\"))\n",
    "cociente=0\n",
    "\n",
    "while dividendo>=divisor:\n",
    "    cociente=cociente+1\n",
    "    dividendo=dividendo-divisor\n",
    "    \n",
    "print(\"cociente: \" , cociente)\n",
    "print(\"resto: \" , dividendo)"
   ]
  },
  {
   "cell_type": "code",
   "execution_count": null,
   "metadata": {},
   "outputs": [],
   "source": [
    "potencia=eval(input(\"Dime la potencia (2^x): \"))\n",
    "pot=1\n",
    "\n",
    "while potencia>0:\n",
    "    pot=pot*2\n",
    "    potencia=potencia-1\n",
    "    print(pot, end=' ')"
   ]
  },
  {
   "cell_type": "code",
   "execution_count": null,
   "metadata": {},
   "outputs": [],
   "source": [
    "#ERROR PRIME NUMBER CODE#\n",
    "num=eval(input(\"Input your number: \"))\n",
    "if num>1:\n",
    "    for i in range(2, num//2):\n",
    "        if(num % i)==0:\n",
    "        print(num, \"is not a prime number\")\n",
    "else:\n",
    "print(num,\"is a prime number\")\n",
    "\n",
    "                "
   ]
  },
  {
   "cell_type": "code",
   "execution_count": null,
   "metadata": {},
   "outputs": [],
   "source": [
    "primo=eval(input(\"Dime un numero: \"))\n",
    "divisor=2\n",
    "\n",
    "while(divisor<primo) and (primo%divisor!=0):\n",
    "    divisor=divisor+1\n",
    "    \n",
    "if divisor>=primo:\n",
    "    print(\"Es primo\")\n",
    "else:\n",
    "    print(\"No es primo\")"
   ]
  },
  {
   "cell_type": "markdown",
   "metadata": {},
   "source": [
    "### Print a prime number list ###"
   ]
  },
  {
   "cell_type": "code",
   "execution_count": null,
   "metadata": {},
   "outputs": [],
   "source": [
    "limite=eval(input(\"Dime un numero: \"))\n",
    "primo=1\n",
    "\n",
    "while primo<limite:\n",
    "    divisor=2\n",
    "    \n",
    "    while (divisor<primo) and (primo%divisor!=0):\n",
    "        divisor=divisor+1\n",
    "    \n",
    "    if divisor>=primo:\n",
    "        print(primo)\n",
    "        \n",
    "    primo=primo+1"
   ]
  },
  {
   "cell_type": "markdown",
   "metadata": {},
   "source": [
    "# Estructuras de datos #"
   ]
  },
  {
   "cell_type": "code",
   "execution_count": 4,
   "metadata": {},
   "outputs": [
    {
     "name": "stdout",
     "output_type": "stream",
     "text": [
      "['enero', 'febrero', 'marzo', 'abril', 'mayo', 'junio', 'julio', 'agosto', 'septiembre', 'octubre', 'noviembre', 'diciembre']\n",
      "['enero', 'marzo', 'abril', 'mayo', 'junio', 'julio', 'agosto', 'septiembre', 'octubre', 'noviembre', 'diciembre']\n",
      "['enero', 'marzo', 'abril', 'mayo', 'junio', 'julio', 'agosto', 'septiembre', 'octubre', 'noviembre', 'diciembre', 'febrero']\n",
      "12\n",
      "enero\n",
      "marzo\n",
      "abril\n",
      "mayo\n",
      "junio\n",
      "julio\n",
      "agosto\n",
      "septiembre\n",
      "octubre\n",
      "noviembre\n",
      "diciembre\n",
      "febrero\n"
     ]
    }
   ],
   "source": [
    "meses=[\"enero\",\"febrero\",\"marzo\",\"abril\",\"mayo\",\"junio\",\"julio\",\"agosto\",\"septiembre\",\"octubre\",\"noviembre\",\"diciembre\"]\n",
    "print(meses)\n",
    "\n",
    "meses.remove(\"febrero\")\n",
    "print(meses)\n",
    "meses.append(\"febrero\")\n",
    "print(meses)\n",
    "\n",
    "print(len(meses))\n",
    "\n",
    "pos=0\n",
    "while pos<len(meses):\n",
    "    print(meses[pos])\n",
    "    pos=pos+1\n",
    "    \n",
    "for mes in meses:\n",
    "    print(mes)"
   ]
  },
  {
   "cell_type": "code",
   "execution_count": 9,
   "metadata": {},
   "outputs": [
    {
     "name": "stdout",
     "output_type": "stream",
     "text": [
      "['enero', 'febrero', 'marzo', 'abril', 'mayo', 'junio', 'julio', 'agosto', 'septiembre', 'octubre', 'noviembre', 'diciembre']\n",
      "enero\n",
      "febrero\n",
      "marzo\n",
      "abril\n",
      "mayo\n",
      "junio\n",
      "julio\n",
      "agosto\n",
      "septiembre\n",
      "octubre\n",
      "noviembre\n",
      "diciembre\n",
      "Marzo aparce 1 veces\n"
     ]
    }
   ],
   "source": [
    "meses=[\"enero\",\"febrero\",\"marzo\",\"abril\",\"mayo\",\"junio\",\"julio\",\"agosto\",\"septiembre\",\"octubre\",\"noviembre\",\"diciembre\"]\n",
    "print(meses)\n",
    "\n",
    "for mes in meses:\n",
    "    print(mes)\n",
    "    \n",
    "meses.index(\"marzo\")\n",
    "\n",
    "contador=0\n",
    "for mes in meses:\n",
    "    if mes==\"marzo\":\n",
    "        contador+=1\n",
    "print(\"Marzo aparce %i veces\" %(contador))"
   ]
  },
  {
   "cell_type": "code",
   "execution_count": 17,
   "metadata": {},
   "outputs": [
    {
     "name": "stdout",
     "output_type": "stream",
     "text": [
      "['enero', 'febrero', 'febrero', 'marzo', 'abril', 'mayo', 'junio', 'julio', 'agosto', 'septiembre', 'octubre']\n"
     ]
    }
   ],
   "source": [
    "meses=[\"enero\",\"febrero\",\"marzo\",\"abril\",\"mayo\",\"junio\",\"julio\",\"agosto\",\"septiembre\",\"octubre\",\"noviembre\",\"diciembre\"]\n",
    "meses.insert(1,\"febrero\")\n",
    "del meses[11]\n",
    "del meses[11]\n",
    "print(meses)"
   ]
  },
  {
   "cell_type": "code",
   "execution_count": 18,
   "metadata": {},
   "outputs": [
    {
     "name": "stdout",
     "output_type": "stream",
     "text": [
      "['enero', 'marzo', 'abril', 'mayo', 'junio', 'julio', 'agosto', 'septiembre', 'octubre', 'noviembre', 'diciembre']\n"
     ]
    }
   ],
   "source": [
    "meses=[\"enero\",\"febrero\",\"marzo\",\"abril\",\"mayo\",\"junio\",\"julio\",\"agosto\",\"septiembre\",\"octubre\",\"noviembre\",\"diciembre\"]\n",
    "if \"febrero\" in meses:\n",
    "    meses.remove(\"febrero\")\n",
    "print(meses)"
   ]
  },
  {
   "cell_type": "code",
   "execution_count": 23,
   "metadata": {},
   "outputs": [
    {
     "name": "stdout",
     "output_type": "stream",
     "text": [
      "[1, 3, 5, 7, 9]\n",
      "[1, 2, 3, 4, 5, 6, 7, 8, 9, 10, 11, 12, 13, 14, 15, 16, 17, 18, 19, 20]\n",
      "[1, 2, 3, 4, 5, 6, 7, 8, 9, 10, 1, 2, 3, 4, 5, 6, 7, 8, 9, 10, 1, 2, 3, 4, 5, 6, 7, 8, 9, 10]\n",
      "[3, 6, 9, 12, 15, 18, 21, 24, 27, 30]\n"
     ]
    }
   ],
   "source": [
    "lista_numeros=[1,2,3,4,5,6,7,8,9,10]\n",
    "nueva_lista=lista_numeros[0:12:2]\n",
    "print(nueva_lista)\n",
    "\n",
    "otra_lista=[11,12,13,14,15,16,17,18,19,20]\n",
    "lista_larga=lista_numeros+otra_lista\n",
    "\n",
    "print(lista_larga)\n",
    "print(lista_numeros*3)\n",
    "lista_por_tres=[]\n",
    "for num in lista_numeros:\n",
    "    lista_por_tres.append(num*3)\n",
    "lista_numeros=lista_por_tres\n",
    "del lista_por_tres\n",
    "print(lista_numeros)"
   ]
  },
  {
   "cell_type": "code",
   "execution_count": null,
   "metadata": {},
   "outputs": [],
   "source": []
  },
  {
   "cell_type": "code",
   "execution_count": null,
   "metadata": {},
   "outputs": [],
   "source": []
  },
  {
   "cell_type": "code",
   "execution_count": null,
   "metadata": {},
   "outputs": [],
   "source": []
  },
  {
   "cell_type": "code",
   "execution_count": null,
   "metadata": {},
   "outputs": [],
   "source": []
  }
 ],
 "metadata": {
  "kernelspec": {
   "display_name": "Python 3",
   "language": "python",
   "name": "python3"
  },
  "language_info": {
   "codemirror_mode": {
    "name": "ipython",
    "version": 3
   },
   "file_extension": ".py",
   "mimetype": "text/x-python",
   "name": "python",
   "nbconvert_exporter": "python",
   "pygments_lexer": "ipython3",
   "version": "3.7.1"
  }
 },
 "nbformat": 4,
 "nbformat_minor": 2
}
