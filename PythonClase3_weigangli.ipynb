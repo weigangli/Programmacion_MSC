{
 "cells": [
  {
   "cell_type": "markdown",
   "metadata": {},
   "source": [
    "### Clase de python Nov.17 ###"
   ]
  },
  {
   "cell_type": "code",
   "execution_count": 1,
   "metadata": {},
   "outputs": [
    {
     "name": "stdout",
     "output_type": "stream",
     "text": [
      "....................En un lugar de la mancha de cuyo nombre no quiero acordarme.....................\n"
     ]
    },
    {
     "data": {
      "text/plain": [
       "12"
      ]
     },
     "execution_count": 1,
     "metadata": {},
     "output_type": "execute_result"
    }
   ],
   "source": [
    "cadena=\"En un lugar de la mancha de cuyo nombre no quiero acordarme\"\n",
    "print(cadena.center(100,'.'))\n",
    "cadena.count('de',10,50)\n",
    "len(cadena.rsplit(sep=' '))"
   ]
  },
  {
   "cell_type": "code",
   "execution_count": 2,
   "metadata": {},
   "outputs": [
    {
     "name": "stdin",
     "output_type": "stream",
     "text": [
      "Nombre:  victor sanchez\n",
      "Apellidos:  victor sanchez\n",
      "edad:  20\n"
     ]
    },
    {
     "name": "stdout",
     "output_type": "stream",
     "text": [
      "victor sanchez victor sanchez\n",
      "victor sanchez victor sanchez20\n",
      "tor \n",
      "victor\n",
      "victor \n",
      "tor sanchez victor sanchez20\n"
     ]
    },
    {
     "name": "stdin",
     "output_type": "stream",
     "text": [
      "Dime una posicion:  10\n"
     ]
    },
    {
     "name": "stdout",
     "output_type": "stream",
     "text": [
      "El caracter en la posicion 10 es n\n"
     ]
    }
   ],
   "source": [
    "nombre=input(\"Nombre: \")\n",
    "apellidos=input(\"Apellidos: \")\n",
    "edad=(eval(input(\"edad: \")))\n",
    "nombre_completo=nombre+\" \"+apellidos\n",
    "print(nombre_completo)\n",
    "nombre_completo=nombre_completo+str(edad)\n",
    "print(nombre_completo)\n",
    "print(nombre_completo[3:7])\n",
    "print(nombre_completo[:6])\n",
    "print(nombre_completo[:7])\n",
    "print(nombre_completo[3:])\n",
    "pos=eval(input(\"Dime una posicion: \"))\n",
    "print(\"El caracter en la posicion\", pos,\"es\",nombre_completo[pos-1])"
   ]
  },
  {
   "cell_type": "code",
   "execution_count": 3,
   "metadata": {},
   "outputs": [
    {
     "data": {
      "text/plain": [
       "True"
      ]
     },
     "execution_count": 3,
     "metadata": {},
     "output_type": "execute_result"
    }
   ],
   "source": [
    "a=\"Hola\"\n",
    "b=\"Hola\"\n",
    "a==\"Hola\""
   ]
  },
  {
   "cell_type": "code",
   "execution_count": 4,
   "metadata": {},
   "outputs": [
    {
     "name": "stdout",
     "output_type": "stream",
     "text": [
      "El caracter en la posicion 10 es n\n"
     ]
    }
   ],
   "source": [
    "print(\"El caracter en la posicion %i es %c\" % (pos , nombre_completo[pos-1]))\n"
   ]
  },
  {
   "cell_type": "code",
   "execution_count": 5,
   "metadata": {},
   "outputs": [
    {
     "name": "stdout",
     "output_type": "stream",
     "text": [
      "Los colores son rojo verde amarillo, y azul\n"
     ]
    }
   ],
   "source": [
    "colores=\"rojo,verde,amarillo,azul\"\n",
    "colores.split(',')\n",
    "color1,color2,color3,color4=colores.split(',')\n",
    "print(\"Los colores son %s %s %s, y %s\" % (color1,color2,color3,color4))"
   ]
  },
  {
   "cell_type": "code",
   "execution_count": 6,
   "metadata": {},
   "outputs": [
    {
     "name": "stdout",
     "output_type": "stream",
     "text": [
      "cCjJcCjJcCjJcCjJcCjJcCccCccCccCccCccCcjJcjJcjJcjJcjJcjJ\n"
     ]
    }
   ],
   "source": [
    "cadena=\"abababababacacacacacacbcbcbcbcbcb\"\n",
    "cadena=cadena.replace(\"a\",\"cC\").replace(\"b\",\"jJ\")\n",
    "print(cadena)"
   ]
  },
  {
   "cell_type": "code",
   "execution_count": 7,
   "metadata": {},
   "outputs": [
    {
     "name": "stdout",
     "output_type": "stream",
     "text": [
      "3.141592653589793\n"
     ]
    }
   ],
   "source": [
    "import math\n",
    "print(math.pi)\n"
   ]
  },
  {
   "cell_type": "code",
   "execution_count": 8,
   "metadata": {},
   "outputs": [
    {
     "name": "stdout",
     "output_type": "stream",
     "text": [
      "3.141592653589793\n"
     ]
    }
   ],
   "source": [
    "import math as m\n",
    "print(m.pi)\n",
    "#print (math.pi) error"
   ]
  },
  {
   "cell_type": "code",
   "execution_count": 9,
   "metadata": {},
   "outputs": [],
   "source": [
    "import tkinter as tk\n",
    "root=tk.Tk()\n",
    "root.mainloop()"
   ]
  },
  {
   "cell_type": "code",
   "execution_count": 17,
   "metadata": {},
   "outputs": [
    {
     "data": {
      "text/plain": [
       "3.141592653589793"
      ]
     },
     "execution_count": 17,
     "metadata": {},
     "output_type": "execute_result"
    }
   ],
   "source": [
    "from math import sqrt\n",
    "sqrt(25)\n",
    "math.pi"
   ]
  },
  {
   "cell_type": "code",
   "execution_count": 33,
   "metadata": {},
   "outputs": [
    {
     "data": {
      "text/plain": [
       "-0.750450686684061"
      ]
     },
     "execution_count": 33,
     "metadata": {},
     "output_type": "execute_result"
    }
   ],
   "source": [
    "import random as r\n",
    "r.gauss(0,3)\n"
   ]
  },
  {
   "cell_type": "code",
   "execution_count": 35,
   "metadata": {},
   "outputs": [
    {
     "name": "stdout",
     "output_type": "stream",
     "text": [
      "Help on built-in function sqrt in module math:\n",
      "\n",
      "sqrt(x, /)\n",
      "    Return the square root of x.\n",
      "\n",
      "['__doc__', '__loader__', '__name__', '__package__', '__spec__', 'acos', 'acosh', 'asin', 'asinh', 'atan', 'atan2', 'atanh', 'ceil', 'copysign', 'cos', 'cosh', 'degrees', 'e', 'erf', 'erfc', 'exp', 'expm1', 'fabs', 'factorial', 'floor', 'fmod', 'frexp', 'fsum', 'gamma', 'gcd', 'hypot', 'inf', 'isclose', 'isfinite', 'isinf', 'isnan', 'ldexp', 'lgamma', 'log', 'log10', 'log1p', 'log2', 'modf', 'nan', 'pi', 'pow', 'radians', 'remainder', 'sin', 'sinh', 'sqrt', 'tan', 'tanh', 'tau', 'trunc']\n",
      "Help on built-in function acosh in module math:\n",
      "\n",
      "acosh(x, /)\n",
      "    Return the inverse hyperbolic cosine of x.\n",
      "\n"
     ]
    }
   ],
   "source": [
    "import math\n",
    "help(math.sqrt)\n",
    "print(dir(math))\n",
    "help(math.acosh)"
   ]
  },
  {
   "cell_type": "code",
   "execution_count": 38,
   "metadata": {},
   "outputs": [
    {
     "data": {
      "text/plain": [
       "0.0"
      ]
     },
     "execution_count": 38,
     "metadata": {},
     "output_type": "execute_result"
    }
   ],
   "source": [
    "from math import *\n",
    "round(cos(radians(90)),10)"
   ]
  },
  {
   "cell_type": "code",
   "execution_count": 43,
   "metadata": {},
   "outputs": [
    {
     "name": "stdout",
     "output_type": "stream",
     "text": [
      "<built-in method today of type object at 0x00007FFA39111EF0>\n",
      "2020-11-17 19:29:27.968182\n",
      "1\n",
      "2020 / 11 / 17\n"
     ]
    }
   ],
   "source": [
    "import datetime as dt\n",
    "print(dt.date.today)\n",
    "print(dt.datetime.now())\n",
    "print(dt.date.today().weekday())\n",
    "ahora=dt.datetime.now()\n",
    "print(ahora.year, \"/\" , ahora.month,\"/\", ahora.day)"
   ]
  },
  {
   "cell_type": "code",
   "execution_count": 44,
   "metadata": {},
   "outputs": [
    {
     "name": "stdout",
     "output_type": "stream",
     "text": [
      "The Zen of Python, by Tim Peters\n",
      "\n",
      "Beautiful is better than ugly.\n",
      "Explicit is better than implicit.\n",
      "Simple is better than complex.\n",
      "Complex is better than complicated.\n",
      "Flat is better than nested.\n",
      "Sparse is better than dense.\n",
      "Readability counts.\n",
      "Special cases aren't special enough to break the rules.\n",
      "Although practicality beats purity.\n",
      "Errors should never pass silently.\n",
      "Unless explicitly silenced.\n",
      "In the face of ambiguity, refuse the temptation to guess.\n",
      "There should be one-- and preferably only one --obvious way to do it.\n",
      "Although that way may not be obvious at first unless you're Dutch.\n",
      "Now is better than never.\n",
      "Although never is often better than *right* now.\n",
      "If the implementation is hard to explain, it's a bad idea.\n",
      "If the implementation is easy to explain, it may be a good idea.\n",
      "Namespaces are one honking great idea -- let's do more of those!\n"
     ]
    }
   ],
   "source": [
    "import this"
   ]
  },
  {
   "cell_type": "code",
   "execution_count": 46,
   "metadata": {},
   "outputs": [
    {
     "ename": "SyntaxError",
     "evalue": "(unicode error) 'unicodeescape' codec can't decode bytes in position 2-3: truncated \\UXXXXXXXX escape (<ipython-input-46-84fc709101a7>, line 3)",
     "output_type": "error",
     "traceback": [
      "\u001b[1;36m  File \u001b[1;32m\"<ipython-input-46-84fc709101a7>\"\u001b[1;36m, line \u001b[1;32m3\u001b[0m\n\u001b[1;33m    os.chdir(\"C:\\Users\\ghia06usu44.AULA.000\\Programmacion_MSC\")\u001b[0m\n\u001b[1;37m            ^\u001b[0m\n\u001b[1;31mSyntaxError\u001b[0m\u001b[1;31m:\u001b[0m (unicode error) 'unicodeescape' codec can't decode bytes in position 2-3: truncated \\UXXXXXXXX escape\n"
     ]
    }
   ],
   "source": []
  },
  {
   "cell_type": "code",
   "execution_count": null,
   "metadata": {},
   "outputs": [],
   "source": []
  }
 ],
 "metadata": {
  "kernelspec": {
   "display_name": "Python 3",
   "language": "python",
   "name": "python3"
  },
  "language_info": {
   "codemirror_mode": {
    "name": "ipython",
    "version": 3
   },
   "file_extension": ".py",
   "mimetype": "text/x-python",
   "name": "python",
   "nbconvert_exporter": "python",
   "pygments_lexer": "ipython3",
   "version": "3.7.1"
  }
 },
 "nbformat": 4,
 "nbformat_minor": 2
}
