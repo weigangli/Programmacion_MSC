{
 "cells": [
  {
   "cell_type": "code",
   "execution_count": null,
   "metadata": {},
   "outputs": [],
   "source": [
    "import math\n"
   ]
  },
  {
   "cell_type": "code",
   "execution_count": null,
   "metadata": {},
   "outputs": [],
   "source": [
    "print(math.sqrt(25))"
   ]
  },
  {
   "cell_type": "code",
   "execution_count": null,
   "metadata": {},
   "outputs": [],
   "source": [
    "print(round(10.2*14.3,1))"
   ]
  },
  {
   "cell_type": "code",
   "execution_count": null,
   "metadata": {},
   "outputs": [],
   "source": [
    "print(round(2*math.pi*5**2+2*math.pi*5*22,2))"
   ]
  },
  {
   "cell_type": "code",
   "execution_count": null,
   "metadata": {},
   "outputs": [],
   "source": [
    "print(math.factorial(7))"
   ]
  },
  {
   "cell_type": "code",
   "execution_count": null,
   "metadata": {},
   "outputs": [],
   "source": [
    "print(math.log(32,2))"
   ]
  },
  {
   "cell_type": "code",
   "execution_count": null,
   "metadata": {},
   "outputs": [],
   "source": [
    "print(math.sin(math.radians(270)))"
   ]
  },
  {
   "cell_type": "code",
   "execution_count": null,
   "metadata": {},
   "outputs": [],
   "source": [
    "nombre=\"Pedro\" \n",
    "print(nombre)\n",
    "nombre=\"Juan\"\n",
    "print(nombre)\n",
    "\n",
    "numero=12\n",
    "print(numero)\n",
    "numero=54\n",
    "print(numero)\n",
    "\n"
   ]
  },
  {
   "cell_type": "code",
   "execution_count": null,
   "metadata": {},
   "outputs": [],
   "source": [
    "numero=numero*4\n",
    "print(numero)\n",
    "numero2=21\n",
    "print(numero*numero2)\n",
    "\n"
   ]
  },
  {
   "cell_type": "code",
   "execution_count": null,
   "metadata": {},
   "outputs": [],
   "source": [
    "a=2\n",
    "b=a\n",
    "c=a\n",
    "print(a,b,c)\n",
    "a=\"hola\"\n",
    "print(a,b,c)"
   ]
  },
  {
   "cell_type": "code",
   "execution_count": null,
   "metadata": {},
   "outputs": [],
   "source": [
    "x=y=z=5\n",
    "print(x,y,z)\n",
    "x=2\n",
    "y=3\n",
    "z=4\n",
    "x=y=z=0\n",
    "print(x,y,z)"
   ]
  },
  {
   "cell_type": "code",
   "execution_count": null,
   "metadata": {},
   "outputs": [],
   "source": [
    "x,y,z=1, \"patata\",15.3\n",
    "print(x,y,z)\n",
    "\n",
    "x=45\n",
    "y=78\n",
    "print(x,y)\n",
    "x,y=y,x\n",
    "print(x,y)\n",
    "\n",
    "aux=x\n",
    "x=y\n",
    "y=aux\n",
    "print(x,y)"
   ]
  },
  {
   "cell_type": "code",
   "execution_count": null,
   "metadata": {},
   "outputs": [],
   "source": [
    "a=3\n",
    "a=a*2\n",
    "print(a)\n",
    "del(a)\n",
    "print(\"a\")\n",
    "s=\"Hola\"\n",
    "b=s\n",
    "print(b)\n",
    "#b=a #ERROR\n",
    "print(b)"
   ]
  },
  {
   "cell_type": "code",
   "execution_count": 1,
   "metadata": {},
   "outputs": [
    {
     "name": "stdin",
     "output_type": "stream",
     "text": [
      "Dime tu nombre:  Victor\n"
     ]
    },
    {
     "name": "stdout",
     "output_type": "stream",
     "text": [
      "Tu nombre es Victor\n"
     ]
    }
   ],
   "source": [
    "nombre=input(\"Dime tu nombre: \")\n",
    "print(\"Tu nombre es\", nombre)"
   ]
  },
  {
   "cell_type": "code",
   "execution_count": 3,
   "metadata": {},
   "outputs": [
    {
     "name": "stdin",
     "output_type": "stream",
     "text": [
      "Dime tu edad:  25\n"
     ]
    },
    {
     "name": "stdout",
     "output_type": "stream",
     "text": [
      "Tienes 25 años\n",
      "Dentro de 15 años tendrás 40 años\n"
     ]
    }
   ],
   "source": [
    "edad=eval(input(\"Dime tu edad: \"))\n",
    "print(\"Tienes\",edad,\"años\")\n",
    "\n",
    "edad=edad+15\n",
    "\n",
    "print(\"Dentro de 15 años tendrás\",edad,\"años\")"
   ]
  },
  {
   "cell_type": "markdown",
   "metadata": {},
   "source": [
    "#### Ejercicio\n",
    "##### Leer nombre y apellidos e imprimirlo"
   ]
  },
  {
   "cell_type": "code",
   "execution_count": 4,
   "metadata": {},
   "outputs": [
    {
     "name": "stdin",
     "output_type": "stream",
     "text": [
      "Dime tu nombre:  Victor\n",
      "Dime tu primer apellido:  Sanchéz\n",
      "Dime tu segundo apellido:  Rodrígo\n"
     ]
    },
    {
     "name": "stdout",
     "output_type": "stream",
     "text": [
      "Te llamas Victor Sanchéz Rodrígo\n"
     ]
    }
   ],
   "source": [
    "nombre=input(\"Dime tu nombre: \")\n",
    "apellido1=input(\"Dime tu primer apellido: \")\n",
    "apellido2=input(\"Dime tu segundo apellido: \")\n",
    "print(\"Te llamas\", nombre, apellido1, apellido2)"
   ]
  },
  {
   "cell_type": "markdown",
   "metadata": {},
   "source": [
    "#### Leer dos números y escribir su suma, su resta y su multiplicación"
   ]
  },
  {
   "cell_type": "code",
   "execution_count": 8,
   "metadata": {},
   "outputs": [
    {
     "name": "stdin",
     "output_type": "stream",
     "text": [
      "Input your first number:  123\n",
      "Input your second number:  321\n"
     ]
    },
    {
     "name": "stdout",
     "output_type": "stream",
     "text": [
      "123 + 321 = 444\n",
      "123 - 321 = -198\n",
      "123 * 321 = 39483\n"
     ]
    }
   ],
   "source": [
    "number1=eval(input(\"Input your first number: \"))\n",
    "number2=eval(input(\"Input your second number: \"))\n",
    "print(number1,\"+\",number2,\"=\",number1+number2)\n",
    "print(number1,\"-\",number2,\"=\",number1-number2)\n",
    "print(number1,\"*\",number2,\"=\",number1*number2)"
   ]
  },
  {
   "cell_type": "code",
   "execution_count": 11,
   "metadata": {},
   "outputs": [
    {
     "name": "stdout",
     "output_type": "stream",
     "text": [
      "<class 'int'>\n",
      "<class 'str'>\n",
      "<class 'float'>\n"
     ]
    }
   ],
   "source": [
    "print(type(number1))\n",
    "print(type(apellido1))\n",
    "print(type(15.2))"
   ]
  },
  {
   "cell_type": "code",
   "execution_count": 15,
   "metadata": {},
   "outputs": [
    {
     "data": {
      "text/plain": [
       "True"
      ]
     },
     "execution_count": 15,
     "metadata": {},
     "output_type": "execute_result"
    }
   ],
   "source": [
    "bool(3)\n"
   ]
  },
  {
   "cell_type": "code",
   "execution_count": 17,
   "metadata": {},
   "outputs": [
    {
     "name": "stdout",
     "output_type": "stream",
     "text": [
      "<class 'bool'>\n",
      "True\n",
      "True\n",
      "<class 'bool'>\n"
     ]
    }
   ],
   "source": [
    "e=bool(14)\n",
    "print(type(e))\n",
    "e1=e\n",
    "print(str(e1))\n",
    "print(e1)\n",
    "print(type(e1))"
   ]
  },
  {
   "cell_type": "code",
   "execution_count": 20,
   "metadata": {},
   "outputs": [
    {
     "name": "stdout",
     "output_type": "stream",
     "text": [
      "That's all, \n",
      "folks\n"
     ]
    }
   ],
   "source": [
    "print('That\\'s all, \\nfolks')"
   ]
  },
  {
   "cell_type": "code",
   "execution_count": 27,
   "metadata": {},
   "outputs": [
    {
     "name": "stdout",
     "output_type": "stream",
     "text": [
      "En un lugar de la Mancha\n",
      "de cuyo nombre no quiero acordarmeg\n"
     ]
    }
   ],
   "source": [
    "print(\"\"\"En un lugar de la Mancha\n",
    "de cuyo nombre no quiero acordarme\\x67\"\"\")"
   ]
  },
  {
   "cell_type": "code",
   "execution_count": 28,
   "metadata": {},
   "outputs": [
    {
     "name": "stdout",
     "output_type": "stream",
     "text": [
      "C:\\windows\\sistema32\n"
     ]
    }
   ],
   "source": [
    "print(r\"C:\\windows\\sistema32\")"
   ]
  },
  {
   "cell_type": "code",
   "execution_count": 33,
   "metadata": {},
   "outputs": [
    {
     "name": "stdout",
     "output_type": "stream",
     "text": [
      "59\n",
      "EN UN LUGAR DE LA MANCHA\n",
      "DE CUYO NOMBRE NO QUIERO ACORDARME\n",
      "en un lugar de la mancha\n",
      "de cuyo nombre no quiero acordarme\n"
     ]
    }
   ],
   "source": [
    "quijote=\"\"\"En un lugar de la Mancha\n",
    "de cuyo nombre no quiero acordarme\"\"\"\n",
    "print(len(quijote))\n",
    "print(quijote.upper())\n",
    "print(quijote.lower())"
   ]
  },
  {
   "cell_type": "code",
   "execution_count": null,
   "metadata": {},
   "outputs": [],
   "source": []
  }
 ],
 "metadata": {
  "kernelspec": {
   "display_name": "Python 3",
   "language": "python",
   "name": "python3"
  },
  "language_info": {
   "codemirror_mode": {
    "name": "ipython",
    "version": 3
   },
   "file_extension": ".py",
   "mimetype": "text/x-python",
   "name": "python",
   "nbconvert_exporter": "python",
   "pygments_lexer": "ipython3",
   "version": "3.8.3"
  }
 },
 "nbformat": 4,
 "nbformat_minor": 4
}
