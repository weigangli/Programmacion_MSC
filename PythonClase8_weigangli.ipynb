{
 "cells": [
  {
   "cell_type": "markdown",
   "metadata": {},
   "source": [
    "## Clase Nov.24 martes ##"
   ]
  },
  {
   "cell_type": "code",
   "execution_count": 7,
   "metadata": {},
   "outputs": [],
   "source": [
    "import tkinter as tk\n",
    "\n",
    "ventana_principal=tk.Tk()\n",
    "\n",
    "texto=tk.Label(ventana_principal,text=\"para cerrar la ventana, pulsa la X en la espina\")\n",
    "texto.pack()\n",
    "\n",
    "ventana_principal.mainloop()\n",
    "#mainloop runs the program\n",
    "\n",
    "\n"
   ]
  },
  {
   "cell_type": "code",
   "execution_count": 8,
   "metadata": {},
   "outputs": [],
   "source": [
    "import tkinter as tk\n",
    "\n",
    "root=tk.Tk()\n",
    "root.title(\"Principal\")\n",
    "\n",
    "top=tk.Toplevel()\n",
    "top.title(\"Toplevel\")\n",
    "\n",
    "root.mainloop()"
   ]
  },
  {
   "cell_type": "code",
   "execution_count": 14,
   "metadata": {},
   "outputs": [],
   "source": [
    "import tkinter as tk\n",
    "\n",
    "root=tk.Tk()\n",
    "panel=tk.PanedWindow(root)\n",
    "panel.pack(fill=tk.BOTH,expand=1)\n",
    "\n",
    "left=tk.Label(panel,text=\"panel izquierdo\")\n",
    "panel.add(left)\n",
    "\n",
    "panel2=tk.PanedWindow(panel,orient=tk.VERTICAL)\n",
    "panel.add(panel2)\n",
    "\n",
    "top=tk.Label(panel2,text=\"panel superior\")\n",
    "panel2.add(top)\n",
    "\n",
    "bottom=tk.Label(panel2,text=\"panel inferior\")\n",
    "panel2.add(bottom)\n",
    "\n",
    "root.mainloop()"
   ]
  },
  {
   "cell_type": "code",
   "execution_count": 15,
   "metadata": {},
   "outputs": [],
   "source": [
    "import tkinter as tk\n",
    "\n",
    "root=tk.Tk()\n",
    "\n",
    "# Widgets: una imagen y un texto\n",
    "logo=tk.PhotoImage(file=\"GIF EXAMPLE.gif\")\n",
    "imagen=tk.Label(root,image=logo).pack(side=\"right\")\n",
    "\n",
    "frase=\"\"\"Ejemplo de uso de ventana con una imagen y un texto.\"\"\"\n",
    "texto=tk.Label(root,justify=tk.RIGHT,padx=10,text=frase).pack(side=\"left\")\n",
    "\n",
    "root.mainloop()"
   ]
  },
  {
   "cell_type": "code",
   "execution_count": 18,
   "metadata": {},
   "outputs": [],
   "source": [
    "import tkinter as tk\n",
    "root=tk.Tk()\n",
    "\n",
    "texto=\"Do or do not. There is no try. \\n(Yoda)\"\n",
    "widget_msg=tk.Message(root, text=texto)\n",
    "widget_msg.config(bg='yellow',fg='red',font=('times',72,'italic'))\n",
    "widget_msg.pack()\n",
    "\n",
    "root.mainloop()"
   ]
  },
  {
   "cell_type": "code",
   "execution_count": 24,
   "metadata": {},
   "outputs": [
    {
     "name": "stdout",
     "output_type": "stream",
     "text": [
      "Tkinter es fácil\n",
      "Tkinter es fácil\n",
      "Tkinter es fácil\n"
     ]
    }
   ],
   "source": [
    "import tkinter as tk\n",
    "\n",
    "def slogan():\n",
    "    print(\"Tkinter es fácil\")\n",
    "\n",
    "root=tk.Tk()\n",
    "frame=tk.Frame(root)\n",
    "frame.pack()\n",
    "\n",
    "boton=tk.Button(frame,text=\"Quit\",fg=\"red\", command=root.destroy)\n",
    "boton.pack(side=tk.LEFT)\n",
    "\n",
    "slogan=tk.Button(frame,text=\"Slogan\", command=slogan)\n",
    "slogan.pack(side=tk.LEFT)\n",
    "\n",
    "texto=\"Do or do not. There is no try. \\n(Yoda)\"\n",
    "widget_msg=tk.Message(root, text=texto)\n",
    "widget_msg.config(bg='yellow',fg='red',font=('times',72,'italic'))\n",
    "widget_msg.pack()\n",
    "\n",
    "root.mainloop()"
   ]
  },
  {
   "cell_type": "code",
   "execution_count": 30,
   "metadata": {},
   "outputs": [],
   "source": [
    "import tkinter as tk\n",
    "from tkinter import messagebox\n",
    "\n",
    "def askokcancel():\n",
    "    answer=messagebox.askokcancel(\"Question\",\"Do you want to open this file\")\n",
    "    print(answer)\n",
    "\n",
    "def askquestion():\n",
    "    answer=messagebox.askquestion(\"Question\",\"Do you want to continue\")\n",
    "    print(answer)\n",
    "    \n",
    "def askretrycancel():\n",
    "    answer=messagebox.askretrycancel(\"Question\",\"Do you want to try that again\")\n",
    "    print(answer)\n",
    "    \n",
    "def askyesno():\n",
    "    answer=messagebox.askyesno(\"Question\",\"Do you want to open this file\")\n",
    "    print(answer)\n",
    "    \n",
    "def askyesnocancel():\n",
    "    answer=messagebox.askyesnocancel(\"Question\",\"Do you want to open this file\")\n",
    "    print(answer)\n",
    "    \n",
    "def showinfo():\n",
    "    answer=messagebox.showinfo(\"Information\",\"Do you want to open this file\")\n",
    "    print(answer)\n",
    "    \n",
    "def showerror():\n",
    "    answer=messagebox.showerror(\"Error\",\"Error Message\")\n",
    "    print(answer)\n",
    "    \n",
    "def showwarning():\n",
    "    answer=messagebox.showwarning(\"Warining\",\"Warning Message\")\n",
    "    print(answer)\n",
    "\n",
    "root=tk.Tk()\n",
    "\n",
    "frame=tk.Frame(root)\n",
    "frame.pack()\n",
    "boton1=tk.Button(frame,text=\"askokcancel\", command=askokcancel)\n",
    "boton1.pack(side=tk.LEFT)\n",
    "\n",
    "boton2=tk.Button(frame,text=\"askquestion\", command=askquestion)\n",
    "boton2.pack(side=tk.LEFT)\n",
    "\n",
    "boton3=tk.Button(frame,text=\"askretrycancel\", command=askretrycancel)\n",
    "boton3.pack(side=tk.LEFT)\n",
    "\n",
    "boton4=tk.Button(frame,text=\"askyesno\", command=askyesno)\n",
    "boton4.pack(side=tk.LEFT)\n",
    "\n",
    "boton5=tk.Button(frame,text=\"askyesnocancel\", command=askyesnocancel)\n",
    "boton5.pack(side=tk.LEFT)\n",
    "\n",
    "boton6=tk.Button(frame,text=\"showinfo\", command=showinfo)\n",
    "boton6.pack(side=tk.LEFT)\n",
    "\n",
    "boton7=tk.Button(frame,text=\"showerror\", command=showerror)\n",
    "boton7.pack(side=tk.LEFT)\n",
    "\n",
    "boton8=tk.Button(frame,text=\"showwarning\", command=showwarning)\n",
    "boton8.pack(side=tk.LEFT)\n",
    "\n",
    "root.mainloop()\n"
   ]
  },
  {
   "cell_type": "code",
   "execution_count": 32,
   "metadata": {},
   "outputs": [
    {
     "name": "stderr",
     "output_type": "stream",
     "text": [
      "Exception in Tkinter callback\n",
      "Traceback (most recent call last):\n",
      "  File \"C:\\ProgramData\\Anaconda3\\lib\\tkinter\\__init__.py\", line 1705, in __call__\n",
      "    return self.func(*args)\n",
      "  File \"<ipython-input-32-c0fdf5fc993f>\", line 7, in callback\n",
      "    boton_color.config(fg=result[1])\n",
      "NameError: name 'boton_color' is not defined\n"
     ]
    }
   ],
   "source": [
    "#choose color\n",
    "import tkinter as tk\n",
    "from tkinter.colorchooser import askcolor\n",
    "\n",
    "def callback():\n",
    "    result=askcolor(color=\"#6A9662\",title=\"Elegir color\")\n",
    "    print(result)\n",
    "\n",
    "root=tk.Tk()\n",
    "tk.Button(root,text='color',fg=\"darkgreen\",command=callback).pack(side=tk.LEFT, padx=10)\n",
    "tk.Button(text='salir',command=root.destroy,fg=\"red\").pack(side=tk.LEFT, padx=10)\n",
    "tk.mainloop()"
   ]
  },
  {
   "cell_type": "code",
   "execution_count": 33,
   "metadata": {},
   "outputs": [
    {
     "name": "stdout",
     "output_type": "stream",
     "text": [
      "C:/Documentos/Análisis espacial (1).pptx\n"
     ]
    }
   ],
   "source": [
    "#useful! check for route\n",
    "import tkinter as tk\n",
    "from tkinter import filedialog as fd\n",
    "\n",
    "def callback():\n",
    "    name=fd.askopenfilename()\n",
    "    print(name)\n",
    "\n",
    "tk.Button(text='Abrir...',command=callback).pack(fill=tk.X)\n",
    "\n",
    "root.mainloop()"
   ]
  },
  {
   "cell_type": "code",
   "execution_count": null,
   "metadata": {},
   "outputs": [
    {
     "name": "stdout",
     "output_type": "stream",
     "text": [
      "hombre: 1,\n",
      "mujer: 1\n"
     ]
    }
   ],
   "source": [
    "import tkinter as tk\n",
    "\n",
    "root=tk.Tk()\n",
    "\n",
    "def var_states():\n",
    "    print(\"hombre: %d,\\nmujer: %d\" % (var1.get(),var2.get()))\n",
    "          \n",
    "var1=tk.IntVar()\n",
    "tk.Checkbutton(root,text=\"hombre\",variable=var1).grid(row=0,sticky=tk.W)\n",
    "var2=tk.IntVar()\n",
    "tk.Checkbutton(root,text=\"mujer\",variable=var2).grid(row=1,sticky=tk.W)\n",
    "\n",
    "tk.Button(root,text='Mostrar',command=var_states).grid(row=2, sticky=tk.W, padx=12)\n",
    "\n",
    "root.mainloop()"
   ]
  },
  {
   "cell_type": "code",
   "execution_count": null,
   "metadata": {},
   "outputs": [],
   "source": []
  },
  {
   "cell_type": "code",
   "execution_count": null,
   "metadata": {},
   "outputs": [],
   "source": []
  },
  {
   "cell_type": "code",
   "execution_count": null,
   "metadata": {},
   "outputs": [],
   "source": []
  },
  {
   "cell_type": "code",
   "execution_count": null,
   "metadata": {},
   "outputs": [],
   "source": []
  }
 ],
 "metadata": {
  "kernelspec": {
   "display_name": "Python 3",
   "language": "python",
   "name": "python3"
  },
  "language_info": {
   "codemirror_mode": {
    "name": "ipython",
    "version": 3
   },
   "file_extension": ".py",
   "mimetype": "text/x-python",
   "name": "python",
   "nbconvert_exporter": "python",
   "pygments_lexer": "ipython3",
   "version": "3.7.1"
  }
 },
 "nbformat": 4,
 "nbformat_minor": 2
}
