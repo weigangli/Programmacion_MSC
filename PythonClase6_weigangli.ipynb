{
 "cells": [
  {
   "cell_type": "markdown",
   "metadata": {},
   "source": [
    "# Clase Viernes 20, Nov #\n"
   ]
  },
  {
   "cell_type": "code",
   "execution_count": 4,
   "metadata": {},
   "outputs": [],
   "source": [
    "diccionario_ciudades={\"28040\":\"Madrid\",\"08080\":\"Barcelona\",\"28002\":\"Madrid\",\"28027\":\"Madrid\",\"09045\":\"Badajoz\"}\n",
    "lista_ciudades=[(\"28040\",\"Madrid\"),(\"08080\",\"Barcelona\"),(\"28002\",\"Madrid\"),(\"28027\",\"Madrid\")]"
   ]
  },
  {
   "cell_type": "code",
   "execution_count": 5,
   "metadata": {},
   "outputs": [
    {
     "name": "stdout",
     "output_type": "stream",
     "text": [
      "09045 Badajoz\n",
      "08080 Barcelona\n",
      "28002 Madrid\n",
      "28027 Madrid\n",
      "28040 Madrid\n"
     ]
    }
   ],
   "source": [
    "lista_ciudades=[]\n",
    "for e in diccionario_ciudades:\n",
    "    lista_ciudades.append((diccionario_ciudades.get(e),e))\n",
    "\n",
    "for ciudad in sorted(lista_ciudades):\n",
    "    print(ciudad[1],ciudad[0])\n",
    "\n",
    "\n",
    "\n",
    "\n"
   ]
  },
  {
   "cell_type": "code",
   "execution_count": 7,
   "metadata": {},
   "outputs": [
    {
     "name": "stdout",
     "output_type": "stream",
     "text": [
      "{'28040': 'Madrid', '08080': 'Barcelona', '28002': 'Madrid', '28027': 'Madrid', '09045': 'Badajoz'}\n"
     ]
    }
   ],
   "source": [
    "codigos_postales=diccionario_ciudades.keys()\n",
    "#prtin(codigos_postales)\n",
    "ciudades=diccionario_ciudades.values()\n",
    "#print(ciudades)\n",
    "\n",
    "nuevo_diccionario_ciudades=dict(zip(codigos_postales,ciudades))\n",
    "print(nuevo_diccionario_ciudades)"
   ]
  },
  {
   "cell_type": "code",
   "execution_count": 28,
   "metadata": {},
   "outputs": [
    {
     "name": "stdout",
     "output_type": "stream",
     "text": [
      "[1, 4, 9, 16, 25, 36, 49, 64, 81, 100]\n"
     ]
    }
   ],
   "source": [
    "cuadrados=[i**2 for i in range(1,11)]\n",
    "print(cuadrados)\n",
    "\n",
    "fichero=open(\"numeros.txt\",\"w\")\n",
    "for n in cuadrados:\n",
    "    fichero.write(str(n) + \"\\n\")\n",
    "fichero.close()\n",
    "\n"
   ]
  },
  {
   "cell_type": "code",
   "execution_count": 27,
   "metadata": {},
   "outputs": [],
   "source": [
    "fichero=open(\"numeros.txt\", \"w\")\n",
    "\n",
    "for n in cuadrados:\n",
    "    fichero.write(str(n) + \"\\n\")\n",
    "fichero.close()\n"
   ]
  },
  {
   "cell_type": "code",
   "execution_count": 20,
   "metadata": {},
   "outputs": [
    {
     "name": "stdout",
     "output_type": "stream",
     "text": [
      "1 4 9 16 25 36 49 64 81 100 \n"
     ]
    }
   ],
   "source": [
    "fichero=open(\"numeros.txt\",\"r\")\n",
    "linea=fichero.readline().strip()\n",
    "while linea:\n",
    "    print(linea,end=\" \")\n",
    "    linea=fichero.readline().strip()\n",
    "print()\n",
    "\n",
    "fichero.close()"
   ]
  },
  {
   "cell_type": "code",
   "execution_count": 29,
   "metadata": {},
   "outputs": [
    {
     "name": "stdin",
     "output_type": "stream",
     "text": [
      "Dame la ruta del fichero:  abcd\n"
     ]
    },
    {
     "name": "stdout",
     "output_type": "stream",
     "text": [
      "Todo ha ido bien\n"
     ]
    }
   ],
   "source": [
    "path=input(\"Dame la ruta del fichero: \")\n",
    "try:\n",
    "    fichero=open(path,\"w\")\n",
    "    fichero.write(\"Intento de escritura en un fichero\")\n",
    "except IOError:\n",
    "    print(\"Errol al intentar escribir en el fichero\")\n",
    "    raise \"!!! pero qúe haces, melón!!!\"\n",
    "else:\n",
    "    print(\"Todo ha ido bien\")\n",
    "    fichero.close()"
   ]
  },
  {
   "cell_type": "code",
   "execution_count": 31,
   "metadata": {},
   "outputs": [
    {
     "name": "stdout",
     "output_type": "stream",
     "text": [
      "hello\n",
      "Hola, Victor\n",
      "hello\n"
     ]
    }
   ],
   "source": [
    "def hola():\n",
    "    print(\"hello\")\n",
    "\n",
    "def saluda(nombre):\n",
    "# funcion que imprimir un saludo por pantalla\n",
    "#   Nombre es un string con el nombre de la persona a la que saludamos\n",
    "    print(\"Hola,\",nombre)\n",
    "    \n",
    "hola()\n",
    "saluda(\"Victor\")\n",
    "hola()\n",
    "saluda(\"Sanchez\")"
   ]
  },
  {
   "cell_type": "code",
   "execution_count": 37,
   "metadata": {},
   "outputs": [
    {
     "name": "stdin",
     "output_type": "stream",
     "text": [
      "Dime un número:  123\n",
      "Dime otro número:  321\n"
     ]
    },
    {
     "name": "stdout",
     "output_type": "stream",
     "text": [
      "321\n"
     ]
    },
    {
     "name": "stdin",
     "output_type": "stream",
     "text": [
      "Dime otro número más:  500\n"
     ]
    },
    {
     "name": "stdout",
     "output_type": "stream",
     "text": [
      "500\n",
      "500\n"
     ]
    }
   ],
   "source": [
    "def max (n1,n2):\n",
    "    if n1>n2:\n",
    "        return n1\n",
    "    else:\n",
    "        return n2\n",
    "\n",
    "# El funcion max calcula el máximo de los dos números que se le pasan como parámetro\n",
    "def max3 (n1,n2,n3):\n",
    "    return max(max(n1,n2),n3)\n",
    "\n",
    "# El funcion max3 calcula el máximo de los tres números que se le pasan como parámetro\n",
    "\n",
    "num1=eval(input(\"Dime un número: \"))\n",
    "num2=eval(input(\"Dime otro número: \"))\n",
    "print(max(num1,num2))\n",
    "\n",
    "num3=eval(input(\"Dime otro número más: \"))\n",
    "print(max(max(num1,num2),num3))\n",
    "\n",
    "print(max3(num1,num2,num3))\n",
    "\n",
    "    "
   ]
  },
  {
   "cell_type": "code",
   "execution_count": 42,
   "metadata": {},
   "outputs": [
    {
     "name": "stdout",
     "output_type": "stream",
     "text": [
      "1 2 4 8 16 32 64 128 256 512 1024 "
     ]
    }
   ],
   "source": [
    "def pot2(n):\n",
    "    for i in range(n+1):\n",
    "        print(2**i,end=(\" \"))\n",
    "\n",
    "pot2(10)"
   ]
  },
  {
   "cell_type": "code",
   "execution_count": 44,
   "metadata": {},
   "outputs": [
    {
     "name": "stdout",
     "output_type": "stream",
     "text": [
      "120\n"
     ]
    }
   ],
   "source": [
    "def factorial(n):\n",
    "    if n<2:\n",
    "        return 1\n",
    "    return n*factorial(n-1)\n",
    "\n",
    "print(factorial(5))"
   ]
  },
  {
   "cell_type": "code",
   "execution_count": 47,
   "metadata": {},
   "outputs": [
    {
     "name": "stdout",
     "output_type": "stream",
     "text": [
      "[1, 2, 3, 1]\n",
      "[1, 2, 3, 1]\n",
      "[0, 0, 0]\n",
      "[1, 2, 3, 1]\n"
     ]
    }
   ],
   "source": [
    "def cambia(l):\n",
    "    l.append(1)\n",
    "    print(l)\n",
    "\n",
    "def nocambia(l):\n",
    "    l=[0,0,0]\n",
    "    print(l)\n",
    "    \n",
    "l=[1,2,3]\n",
    "cambia(l)\n",
    "print(l)\n",
    "\n",
    "nocambia(l)\n",
    "print(l)\n"
   ]
  },
  {
   "cell_type": "code",
   "execution_count": 49,
   "metadata": {},
   "outputs": [
    {
     "name": "stdout",
     "output_type": "stream",
     "text": [
      "2 5\n",
      "5 2\n",
      "2 5\n"
     ]
    }
   ],
   "source": [
    "def intercambia(n1,n2):\n",
    "    print(n1,n2)\n",
    "    n1,n2=n2,n1\n",
    "    print(n1,n2)\n",
    "\n",
    "    \n",
    "num1=2\n",
    "num2=5\n",
    "intercambia(num1,num2)\n",
    "\n",
    "print(num1,num2)"
   ]
  },
  {
   "cell_type": "code",
   "execution_count": 52,
   "metadata": {},
   "outputs": [
    {
     "name": "stdout",
     "output_type": "stream",
     "text": [
      "2 5 7 perro "
     ]
    }
   ],
   "source": [
    "print(num1,num2,7,\"perro\",end=\" \")"
   ]
  },
  {
   "cell_type": "code",
   "execution_count": 54,
   "metadata": {},
   "outputs": [
    {
     "name": "stdout",
     "output_type": "stream",
     "text": [
      "7 4\n"
     ]
    }
   ],
   "source": [
    "def intercambia2(n1,n2):\n",
    "    return n2,n1\n",
    "\n",
    "n1=4\n",
    "n2=7\n",
    "\n",
    "n1,n2=intercambia2(n1,n2)\n",
    "print(n1,n2)"
   ]
  },
  {
   "cell_type": "code",
   "execution_count": null,
   "metadata": {},
   "outputs": [],
   "source": []
  }
 ],
 "metadata": {
  "kernelspec": {
   "display_name": "Python 3",
   "language": "python",
   "name": "python3"
  },
  "language_info": {
   "codemirror_mode": {
    "name": "ipython",
    "version": 3
   },
   "file_extension": ".py",
   "mimetype": "text/x-python",
   "name": "python",
   "nbconvert_exporter": "python",
   "pygments_lexer": "ipython3",
   "version": "3.7.1"
  }
 },
 "nbformat": 4,
 "nbformat_minor": 2
}
